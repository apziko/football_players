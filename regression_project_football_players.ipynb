{
  "nbformat": 4,
  "nbformat_minor": 0,
  "metadata": {
    "colab": {
      "provenance": [],
      "collapsed_sections": [],
      "include_colab_link": true
    },
    "kernelspec": {
      "name": "python3",
      "display_name": "Python 3"
    },
    "language_info": {
      "name": "python"
    }
  },
  "cells": [
    {
      "cell_type": "markdown",
      "metadata": {
        "id": "view-in-github",
        "colab_type": "text"
      },
      "source": [
        "<a href=\"https://colab.research.google.com/github/apziko/football_players/blob/main/regression_project_football_players.ipynb\" target=\"_parent\"><img src=\"https://colab.research.google.com/assets/colab-badge.svg\" alt=\"Open In Colab\"/></a>"
      ]
    },
    {
      "cell_type": "code",
      "execution_count": null,
      "metadata": {
        "id": "-5cqHmS-HBDl"
      },
      "outputs": [],
      "source": [
        "#  !pip install pandas-profiling --upgrade"
      ]
    },
    {
      "cell_type": "code",
      "source": [
        "#  !pip install markupsafe==2.0.1"
      ],
      "metadata": {
        "id": "eWo9-cvWHcBm"
      },
      "execution_count": null,
      "outputs": []
    },
    {
      "cell_type": "code",
      "source": [
        "import pandas as pd\n",
        "import numpy as np\n",
        "from matplotlib import pyplot as plt\n",
        "import seaborn as sns\n",
        "from pandas_profiling import ProfileReport\n",
        "import seaborn as sns"
      ],
      "metadata": {
        "id": "JU0g3DeuHhzB"
      },
      "execution_count": 1,
      "outputs": []
    },
    {
      "cell_type": "markdown",
      "source": [
        "# Wczytanie DS"
      ],
      "metadata": {
        "id": "D6WVxL-iqKwd"
      }
    },
    {
      "cell_type": "code",
      "source": [
        "from google.colab import drive\n",
        "drive.mount('/content/drive')"
      ],
      "metadata": {
        "colab": {
          "base_uri": "https://localhost:8080/"
        },
        "id": "KC2uNRjmhXkJ",
        "outputId": "70b5a07e-deb8-4fe8-ee9e-db850c513a6c"
      },
      "execution_count": 2,
      "outputs": [
        {
          "output_type": "stream",
          "name": "stdout",
          "text": [
            "Mounted at /content/drive\n"
          ]
        }
      ]
    },
    {
      "cell_type": "code",
      "source": [
        "df = pd.read_csv('/content/drive/MyDrive/danelic2019.csv', sep=';')"
      ],
      "metadata": {
        "id": "XN06MCLoHnuO"
      },
      "execution_count": 3,
      "outputs": []
    },
    {
      "cell_type": "code",
      "source": [
        "df"
      ],
      "metadata": {
        "colab": {
          "base_uri": "https://localhost:8080/",
          "height": 731
        },
        "id": "nECV43iXKgm6",
        "outputId": "fa8c83f0-2b0b-4ed1-8a6e-426300d1c998"
      },
      "execution_count": 4,
      "outputs": [
        {
          "output_type": "execute_result",
          "data": {
            "text/plain": [
              "      Column1                 player nationality position    squad  age  \\\n",
              "0          21  Martin Aguirregabiria      es ESP       DF  AlavĂ©s   23   \n",
              "1         390           Oliver Burke     sco SCO    MF,FW  AlavĂ©s   22   \n",
              "2         430       VĂ­ctor Camarasa      es ESP       MF  AlavĂ©s   25   \n",
              "3         737          RubĂ©n Duarte      es ESP       DF  AlavĂ©s   23   \n",
              "4         770            Rodrigo Ely      br BRA       DF  AlavĂ©s   25   \n",
              "...       ...                    ...         ...      ...      ...  ...   \n",
              "2639     1997         Daniel Podence      pt POR    FW,MF   Wolves   23   \n",
              "2640     2202          Romain SaĂŻss      ma MAR       DF   Wolves   29   \n",
              "2641     2523          Adama TraorĂ©      es ESP    FW,MF   Wolves   23   \n",
              "2642     2567         JesĂşs Vallejo      es ESP       DF   Wolves   22   \n",
              "2643     2615         RĂşben Vinagre      pt POR       DF   Wolves   20   \n",
              "\n",
              "      birth_year     value  height                      position2  ... Pts/G  \\\n",
              "0           1996   4000000     178          Defender - Right-Back  ...  1.03   \n",
              "1           1997   4000000     188         Forward - Right Winger  ...  1.03   \n",
              "2           1994   4000000     183  Midfielder - Central Midfield  ...  1.03   \n",
              "3           1995   4000000     172           Defender - Left-Back  ...  1.03   \n",
              "4           1993   1000000     188         Defender - Centre-Back  ...  1.03   \n",
              "...          ...       ...     ...                            ...  ...   ...   \n",
              "2639        1995  12000000     165         Forward - Right Winger  ...  1.55   \n",
              "2640        1990   4000000     188         Defender - Centre-Back  ...  1.55   \n",
              "2641        1996  25000000     178         Forward - Right Winger  ...  1.55   \n",
              "2642        1997   6000000     184         Defender - Centre-Back  ...  1.55   \n",
              "2643        1999   9000000     174           Defender - Left-Back  ...  1.55   \n",
              "\n",
              "        xG   xGA  xGDiff  xGDiff/90  Attendance  CL  WinCL  CLBestScorer  \\\n",
              "0     37.0  53.2   -16.2      -0.43      12,177   0      0           0.0   \n",
              "1     37.0  53.2   -16.2      -0.43      12,177   0      0           0.0   \n",
              "2     37.0  53.2   -16.2      -0.43      12,177   0      0           0.0   \n",
              "3     37.0  53.2   -16.2      -0.43      12,177   0      0           0.0   \n",
              "4     37.0  53.2   -16.2      -0.43      12,177   0      0           0.0   \n",
              "...    ...   ...     ...        ...         ...  ..    ...           ...   \n",
              "2639  47.1  34.8    12.3       0.32       24758   0      0           NaN   \n",
              "2640  47.1  34.8    12.3       0.32       24758   0      0           NaN   \n",
              "2641  47.1  34.8    12.3       0.32       24758   0      0           NaN   \n",
              "2642  47.1  34.8    12.3       0.32       24758   0      0           NaN   \n",
              "2643  47.1  34.8    12.3       0.32       24758   0      0           NaN   \n",
              "\n",
              "       Season  \n",
              "0     201920#  \n",
              "1     201920#  \n",
              "2     201920#  \n",
              "3     201920#  \n",
              "4     201920#  \n",
              "...       ...  \n",
              "2639  201920#  \n",
              "2640  201920#  \n",
              "2641  201920#  \n",
              "2642  201920#  \n",
              "2643  201920#  \n",
              "\n",
              "[2644 rows x 400 columns]"
            ],
            "text/html": [
              "\n",
              "  <div id=\"df-6747f4c6-1ea0-4b65-b226-feb74b0b1819\">\n",
              "    <div class=\"colab-df-container\">\n",
              "      <div>\n",
              "<style scoped>\n",
              "    .dataframe tbody tr th:only-of-type {\n",
              "        vertical-align: middle;\n",
              "    }\n",
              "\n",
              "    .dataframe tbody tr th {\n",
              "        vertical-align: top;\n",
              "    }\n",
              "\n",
              "    .dataframe thead th {\n",
              "        text-align: right;\n",
              "    }\n",
              "</style>\n",
              "<table border=\"1\" class=\"dataframe\">\n",
              "  <thead>\n",
              "    <tr style=\"text-align: right;\">\n",
              "      <th></th>\n",
              "      <th>Column1</th>\n",
              "      <th>player</th>\n",
              "      <th>nationality</th>\n",
              "      <th>position</th>\n",
              "      <th>squad</th>\n",
              "      <th>age</th>\n",
              "      <th>birth_year</th>\n",
              "      <th>value</th>\n",
              "      <th>height</th>\n",
              "      <th>position2</th>\n",
              "      <th>...</th>\n",
              "      <th>Pts/G</th>\n",
              "      <th>xG</th>\n",
              "      <th>xGA</th>\n",
              "      <th>xGDiff</th>\n",
              "      <th>xGDiff/90</th>\n",
              "      <th>Attendance</th>\n",
              "      <th>CL</th>\n",
              "      <th>WinCL</th>\n",
              "      <th>CLBestScorer</th>\n",
              "      <th>Season</th>\n",
              "    </tr>\n",
              "  </thead>\n",
              "  <tbody>\n",
              "    <tr>\n",
              "      <th>0</th>\n",
              "      <td>21</td>\n",
              "      <td>Martin Aguirregabiria</td>\n",
              "      <td>es ESP</td>\n",
              "      <td>DF</td>\n",
              "      <td>AlavĂ©s</td>\n",
              "      <td>23</td>\n",
              "      <td>1996</td>\n",
              "      <td>4000000</td>\n",
              "      <td>178</td>\n",
              "      <td>Defender - Right-Back</td>\n",
              "      <td>...</td>\n",
              "      <td>1.03</td>\n",
              "      <td>37.0</td>\n",
              "      <td>53.2</td>\n",
              "      <td>-16.2</td>\n",
              "      <td>-0.43</td>\n",
              "      <td>12,177</td>\n",
              "      <td>0</td>\n",
              "      <td>0</td>\n",
              "      <td>0.0</td>\n",
              "      <td>201920#</td>\n",
              "    </tr>\n",
              "    <tr>\n",
              "      <th>1</th>\n",
              "      <td>390</td>\n",
              "      <td>Oliver Burke</td>\n",
              "      <td>sco SCO</td>\n",
              "      <td>MF,FW</td>\n",
              "      <td>AlavĂ©s</td>\n",
              "      <td>22</td>\n",
              "      <td>1997</td>\n",
              "      <td>4000000</td>\n",
              "      <td>188</td>\n",
              "      <td>Forward - Right Winger</td>\n",
              "      <td>...</td>\n",
              "      <td>1.03</td>\n",
              "      <td>37.0</td>\n",
              "      <td>53.2</td>\n",
              "      <td>-16.2</td>\n",
              "      <td>-0.43</td>\n",
              "      <td>12,177</td>\n",
              "      <td>0</td>\n",
              "      <td>0</td>\n",
              "      <td>0.0</td>\n",
              "      <td>201920#</td>\n",
              "    </tr>\n",
              "    <tr>\n",
              "      <th>2</th>\n",
              "      <td>430</td>\n",
              "      <td>VĂ­ctor Camarasa</td>\n",
              "      <td>es ESP</td>\n",
              "      <td>MF</td>\n",
              "      <td>AlavĂ©s</td>\n",
              "      <td>25</td>\n",
              "      <td>1994</td>\n",
              "      <td>4000000</td>\n",
              "      <td>183</td>\n",
              "      <td>Midfielder - Central Midfield</td>\n",
              "      <td>...</td>\n",
              "      <td>1.03</td>\n",
              "      <td>37.0</td>\n",
              "      <td>53.2</td>\n",
              "      <td>-16.2</td>\n",
              "      <td>-0.43</td>\n",
              "      <td>12,177</td>\n",
              "      <td>0</td>\n",
              "      <td>0</td>\n",
              "      <td>0.0</td>\n",
              "      <td>201920#</td>\n",
              "    </tr>\n",
              "    <tr>\n",
              "      <th>3</th>\n",
              "      <td>737</td>\n",
              "      <td>RubĂ©n Duarte</td>\n",
              "      <td>es ESP</td>\n",
              "      <td>DF</td>\n",
              "      <td>AlavĂ©s</td>\n",
              "      <td>23</td>\n",
              "      <td>1995</td>\n",
              "      <td>4000000</td>\n",
              "      <td>172</td>\n",
              "      <td>Defender - Left-Back</td>\n",
              "      <td>...</td>\n",
              "      <td>1.03</td>\n",
              "      <td>37.0</td>\n",
              "      <td>53.2</td>\n",
              "      <td>-16.2</td>\n",
              "      <td>-0.43</td>\n",
              "      <td>12,177</td>\n",
              "      <td>0</td>\n",
              "      <td>0</td>\n",
              "      <td>0.0</td>\n",
              "      <td>201920#</td>\n",
              "    </tr>\n",
              "    <tr>\n",
              "      <th>4</th>\n",
              "      <td>770</td>\n",
              "      <td>Rodrigo Ely</td>\n",
              "      <td>br BRA</td>\n",
              "      <td>DF</td>\n",
              "      <td>AlavĂ©s</td>\n",
              "      <td>25</td>\n",
              "      <td>1993</td>\n",
              "      <td>1000000</td>\n",
              "      <td>188</td>\n",
              "      <td>Defender - Centre-Back</td>\n",
              "      <td>...</td>\n",
              "      <td>1.03</td>\n",
              "      <td>37.0</td>\n",
              "      <td>53.2</td>\n",
              "      <td>-16.2</td>\n",
              "      <td>-0.43</td>\n",
              "      <td>12,177</td>\n",
              "      <td>0</td>\n",
              "      <td>0</td>\n",
              "      <td>0.0</td>\n",
              "      <td>201920#</td>\n",
              "    </tr>\n",
              "    <tr>\n",
              "      <th>...</th>\n",
              "      <td>...</td>\n",
              "      <td>...</td>\n",
              "      <td>...</td>\n",
              "      <td>...</td>\n",
              "      <td>...</td>\n",
              "      <td>...</td>\n",
              "      <td>...</td>\n",
              "      <td>...</td>\n",
              "      <td>...</td>\n",
              "      <td>...</td>\n",
              "      <td>...</td>\n",
              "      <td>...</td>\n",
              "      <td>...</td>\n",
              "      <td>...</td>\n",
              "      <td>...</td>\n",
              "      <td>...</td>\n",
              "      <td>...</td>\n",
              "      <td>...</td>\n",
              "      <td>...</td>\n",
              "      <td>...</td>\n",
              "      <td>...</td>\n",
              "    </tr>\n",
              "    <tr>\n",
              "      <th>2639</th>\n",
              "      <td>1997</td>\n",
              "      <td>Daniel Podence</td>\n",
              "      <td>pt POR</td>\n",
              "      <td>FW,MF</td>\n",
              "      <td>Wolves</td>\n",
              "      <td>23</td>\n",
              "      <td>1995</td>\n",
              "      <td>12000000</td>\n",
              "      <td>165</td>\n",
              "      <td>Forward - Right Winger</td>\n",
              "      <td>...</td>\n",
              "      <td>1.55</td>\n",
              "      <td>47.1</td>\n",
              "      <td>34.8</td>\n",
              "      <td>12.3</td>\n",
              "      <td>0.32</td>\n",
              "      <td>24758</td>\n",
              "      <td>0</td>\n",
              "      <td>0</td>\n",
              "      <td>NaN</td>\n",
              "      <td>201920#</td>\n",
              "    </tr>\n",
              "    <tr>\n",
              "      <th>2640</th>\n",
              "      <td>2202</td>\n",
              "      <td>Romain SaĂŻss</td>\n",
              "      <td>ma MAR</td>\n",
              "      <td>DF</td>\n",
              "      <td>Wolves</td>\n",
              "      <td>29</td>\n",
              "      <td>1990</td>\n",
              "      <td>4000000</td>\n",
              "      <td>188</td>\n",
              "      <td>Defender - Centre-Back</td>\n",
              "      <td>...</td>\n",
              "      <td>1.55</td>\n",
              "      <td>47.1</td>\n",
              "      <td>34.8</td>\n",
              "      <td>12.3</td>\n",
              "      <td>0.32</td>\n",
              "      <td>24758</td>\n",
              "      <td>0</td>\n",
              "      <td>0</td>\n",
              "      <td>NaN</td>\n",
              "      <td>201920#</td>\n",
              "    </tr>\n",
              "    <tr>\n",
              "      <th>2641</th>\n",
              "      <td>2523</td>\n",
              "      <td>Adama TraorĂ©</td>\n",
              "      <td>es ESP</td>\n",
              "      <td>FW,MF</td>\n",
              "      <td>Wolves</td>\n",
              "      <td>23</td>\n",
              "      <td>1996</td>\n",
              "      <td>25000000</td>\n",
              "      <td>178</td>\n",
              "      <td>Forward - Right Winger</td>\n",
              "      <td>...</td>\n",
              "      <td>1.55</td>\n",
              "      <td>47.1</td>\n",
              "      <td>34.8</td>\n",
              "      <td>12.3</td>\n",
              "      <td>0.32</td>\n",
              "      <td>24758</td>\n",
              "      <td>0</td>\n",
              "      <td>0</td>\n",
              "      <td>NaN</td>\n",
              "      <td>201920#</td>\n",
              "    </tr>\n",
              "    <tr>\n",
              "      <th>2642</th>\n",
              "      <td>2567</td>\n",
              "      <td>JesĂşs Vallejo</td>\n",
              "      <td>es ESP</td>\n",
              "      <td>DF</td>\n",
              "      <td>Wolves</td>\n",
              "      <td>22</td>\n",
              "      <td>1997</td>\n",
              "      <td>6000000</td>\n",
              "      <td>184</td>\n",
              "      <td>Defender - Centre-Back</td>\n",
              "      <td>...</td>\n",
              "      <td>1.55</td>\n",
              "      <td>47.1</td>\n",
              "      <td>34.8</td>\n",
              "      <td>12.3</td>\n",
              "      <td>0.32</td>\n",
              "      <td>24758</td>\n",
              "      <td>0</td>\n",
              "      <td>0</td>\n",
              "      <td>NaN</td>\n",
              "      <td>201920#</td>\n",
              "    </tr>\n",
              "    <tr>\n",
              "      <th>2643</th>\n",
              "      <td>2615</td>\n",
              "      <td>RĂşben Vinagre</td>\n",
              "      <td>pt POR</td>\n",
              "      <td>DF</td>\n",
              "      <td>Wolves</td>\n",
              "      <td>20</td>\n",
              "      <td>1999</td>\n",
              "      <td>9000000</td>\n",
              "      <td>174</td>\n",
              "      <td>Defender - Left-Back</td>\n",
              "      <td>...</td>\n",
              "      <td>1.55</td>\n",
              "      <td>47.1</td>\n",
              "      <td>34.8</td>\n",
              "      <td>12.3</td>\n",
              "      <td>0.32</td>\n",
              "      <td>24758</td>\n",
              "      <td>0</td>\n",
              "      <td>0</td>\n",
              "      <td>NaN</td>\n",
              "      <td>201920#</td>\n",
              "    </tr>\n",
              "  </tbody>\n",
              "</table>\n",
              "<p>2644 rows × 400 columns</p>\n",
              "</div>\n",
              "      <button class=\"colab-df-convert\" onclick=\"convertToInteractive('df-6747f4c6-1ea0-4b65-b226-feb74b0b1819')\"\n",
              "              title=\"Convert this dataframe to an interactive table.\"\n",
              "              style=\"display:none;\">\n",
              "        \n",
              "  <svg xmlns=\"http://www.w3.org/2000/svg\" height=\"24px\"viewBox=\"0 0 24 24\"\n",
              "       width=\"24px\">\n",
              "    <path d=\"M0 0h24v24H0V0z\" fill=\"none\"/>\n",
              "    <path d=\"M18.56 5.44l.94 2.06.94-2.06 2.06-.94-2.06-.94-.94-2.06-.94 2.06-2.06.94zm-11 1L8.5 8.5l.94-2.06 2.06-.94-2.06-.94L8.5 2.5l-.94 2.06-2.06.94zm10 10l.94 2.06.94-2.06 2.06-.94-2.06-.94-.94-2.06-.94 2.06-2.06.94z\"/><path d=\"M17.41 7.96l-1.37-1.37c-.4-.4-.92-.59-1.43-.59-.52 0-1.04.2-1.43.59L10.3 9.45l-7.72 7.72c-.78.78-.78 2.05 0 2.83L4 21.41c.39.39.9.59 1.41.59.51 0 1.02-.2 1.41-.59l7.78-7.78 2.81-2.81c.8-.78.8-2.07 0-2.86zM5.41 20L4 18.59l7.72-7.72 1.47 1.35L5.41 20z\"/>\n",
              "  </svg>\n",
              "      </button>\n",
              "      \n",
              "  <style>\n",
              "    .colab-df-container {\n",
              "      display:flex;\n",
              "      flex-wrap:wrap;\n",
              "      gap: 12px;\n",
              "    }\n",
              "\n",
              "    .colab-df-convert {\n",
              "      background-color: #E8F0FE;\n",
              "      border: none;\n",
              "      border-radius: 50%;\n",
              "      cursor: pointer;\n",
              "      display: none;\n",
              "      fill: #1967D2;\n",
              "      height: 32px;\n",
              "      padding: 0 0 0 0;\n",
              "      width: 32px;\n",
              "    }\n",
              "\n",
              "    .colab-df-convert:hover {\n",
              "      background-color: #E2EBFA;\n",
              "      box-shadow: 0px 1px 2px rgba(60, 64, 67, 0.3), 0px 1px 3px 1px rgba(60, 64, 67, 0.15);\n",
              "      fill: #174EA6;\n",
              "    }\n",
              "\n",
              "    [theme=dark] .colab-df-convert {\n",
              "      background-color: #3B4455;\n",
              "      fill: #D2E3FC;\n",
              "    }\n",
              "\n",
              "    [theme=dark] .colab-df-convert:hover {\n",
              "      background-color: #434B5C;\n",
              "      box-shadow: 0px 1px 3px 1px rgba(0, 0, 0, 0.15);\n",
              "      filter: drop-shadow(0px 1px 2px rgba(0, 0, 0, 0.3));\n",
              "      fill: #FFFFFF;\n",
              "    }\n",
              "  </style>\n",
              "\n",
              "      <script>\n",
              "        const buttonEl =\n",
              "          document.querySelector('#df-6747f4c6-1ea0-4b65-b226-feb74b0b1819 button.colab-df-convert');\n",
              "        buttonEl.style.display =\n",
              "          google.colab.kernel.accessAllowed ? 'block' : 'none';\n",
              "\n",
              "        async function convertToInteractive(key) {\n",
              "          const element = document.querySelector('#df-6747f4c6-1ea0-4b65-b226-feb74b0b1819');\n",
              "          const dataTable =\n",
              "            await google.colab.kernel.invokeFunction('convertToInteractive',\n",
              "                                                     [key], {});\n",
              "          if (!dataTable) return;\n",
              "\n",
              "          const docLinkHtml = 'Like what you see? Visit the ' +\n",
              "            '<a target=\"_blank\" href=https://colab.research.google.com/notebooks/data_table.ipynb>data table notebook</a>'\n",
              "            + ' to learn more about interactive tables.';\n",
              "          element.innerHTML = '';\n",
              "          dataTable['output_type'] = 'display_data';\n",
              "          await google.colab.output.renderOutput(dataTable, element);\n",
              "          const docLink = document.createElement('div');\n",
              "          docLink.innerHTML = docLinkHtml;\n",
              "          element.appendChild(docLink);\n",
              "        }\n",
              "      </script>\n",
              "    </div>\n",
              "  </div>\n",
              "  "
            ]
          },
          "metadata": {},
          "execution_count": 4
        }
      ]
    },
    {
      "cell_type": "code",
      "source": [
        "df.describe()"
      ],
      "metadata": {
        "colab": {
          "base_uri": "https://localhost:8080/",
          "height": 394
        },
        "id": "ikDKTf00KmD3",
        "outputId": "eeac7c25-2501-4ac5-b936-3d0604c81b2b"
      },
      "execution_count": 5,
      "outputs": [
        {
          "output_type": "execute_result",
          "data": {
            "text/plain": [
              "           Column1          age   birth_year         value       height  \\\n",
              "count  2644.000000  2644.000000  2644.000000  2.644000e+03  2644.000000   \n",
              "mean   1363.432678    25.316944  1991.043116  9.570623e+06   181.593797   \n",
              "std     789.855596     4.518445    67.264099  1.490187e+07    12.956865   \n",
              "min       0.000000     0.000000     0.000000  5.000000e+01     0.000000   \n",
              "25%     680.750000    22.000000  1990.000000  1.000000e+06   178.000000   \n",
              "50%    1362.500000    25.000000  1993.000000  4.000000e+06   183.000000   \n",
              "75%    2047.250000    28.000000  1997.000000  1.200000e+07   187.000000   \n",
              "max    2731.000000    41.000000  2004.000000  1.800000e+08   202.000000   \n",
              "\n",
              "             games  games_starts      minutes        goals      assists  ...  \\\n",
              "count  2644.000000   2644.000000  2644.000000  2644.000000  2644.000000  ...   \n",
              "mean     18.476172     14.329803  1285.914523     1.769289     1.231089  ...   \n",
              "std      10.939719     10.927727   947.346883     3.338358     2.011300  ...   \n",
              "min       1.000000      0.000000     1.000000     0.000000     0.000000  ...   \n",
              "25%       9.000000      4.000000   424.500000     0.000000     0.000000  ...   \n",
              "50%      19.000000     13.000000  1181.500000     0.000000     0.000000  ...   \n",
              "75%      28.000000     23.000000  2050.250000     2.000000     2.000000  ...   \n",
              "max      38.000000     38.000000  3420.000000    36.000000    21.000000  ...   \n",
              "\n",
              "             GDiff          Pts        Pts/G           xG          xGA  \\\n",
              "count  2644.000000  2644.000000  2644.000000  2644.000000  2644.000000   \n",
              "mean     -0.502269    48.231467     1.368472    46.633812    46.901626   \n",
              "std      24.959058    16.780147     0.449502    13.636226    11.616728   \n",
              "min     -50.000000    13.000000     0.460000    26.800000    22.700000   \n",
              "25%     -18.000000    37.000000     1.070000    37.300000    39.000000   \n",
              "50%      -4.000000    45.000000     1.320000    42.700000    47.600000   \n",
              "75%      14.000000    59.000000     1.630000    53.900000    54.500000   \n",
              "max      68.000000    99.000000     2.610000    93.000000    84.100000   \n",
              "\n",
              "            xGDiff    xGDiff/90           CL        WinCL  CLBestScorer  \n",
              "count  2644.000000  2644.000000  2644.000000  2644.000000   2232.000000  \n",
              "mean     -0.266641    -0.006097     0.181165     0.009077      0.000448  \n",
              "std      18.711016     0.529283     0.385228     0.094859      0.021167  \n",
              "min     -35.200000    -0.930000     0.000000     0.000000      0.000000  \n",
              "25%     -13.000000    -0.380000     0.000000     0.000000      0.000000  \n",
              "50%      -4.200000    -0.120000     0.000000     0.000000      0.000000  \n",
              "75%      10.100000     0.330000     0.000000     0.000000      0.000000  \n",
              "max      58.300000     1.780000     1.000000     1.000000      1.000000  \n",
              "\n",
              "[8 rows x 391 columns]"
            ],
            "text/html": [
              "\n",
              "  <div id=\"df-70734f9d-bbf9-4054-8db2-2691a537a67f\">\n",
              "    <div class=\"colab-df-container\">\n",
              "      <div>\n",
              "<style scoped>\n",
              "    .dataframe tbody tr th:only-of-type {\n",
              "        vertical-align: middle;\n",
              "    }\n",
              "\n",
              "    .dataframe tbody tr th {\n",
              "        vertical-align: top;\n",
              "    }\n",
              "\n",
              "    .dataframe thead th {\n",
              "        text-align: right;\n",
              "    }\n",
              "</style>\n",
              "<table border=\"1\" class=\"dataframe\">\n",
              "  <thead>\n",
              "    <tr style=\"text-align: right;\">\n",
              "      <th></th>\n",
              "      <th>Column1</th>\n",
              "      <th>age</th>\n",
              "      <th>birth_year</th>\n",
              "      <th>value</th>\n",
              "      <th>height</th>\n",
              "      <th>games</th>\n",
              "      <th>games_starts</th>\n",
              "      <th>minutes</th>\n",
              "      <th>goals</th>\n",
              "      <th>assists</th>\n",
              "      <th>...</th>\n",
              "      <th>GDiff</th>\n",
              "      <th>Pts</th>\n",
              "      <th>Pts/G</th>\n",
              "      <th>xG</th>\n",
              "      <th>xGA</th>\n",
              "      <th>xGDiff</th>\n",
              "      <th>xGDiff/90</th>\n",
              "      <th>CL</th>\n",
              "      <th>WinCL</th>\n",
              "      <th>CLBestScorer</th>\n",
              "    </tr>\n",
              "  </thead>\n",
              "  <tbody>\n",
              "    <tr>\n",
              "      <th>count</th>\n",
              "      <td>2644.000000</td>\n",
              "      <td>2644.000000</td>\n",
              "      <td>2644.000000</td>\n",
              "      <td>2.644000e+03</td>\n",
              "      <td>2644.000000</td>\n",
              "      <td>2644.000000</td>\n",
              "      <td>2644.000000</td>\n",
              "      <td>2644.000000</td>\n",
              "      <td>2644.000000</td>\n",
              "      <td>2644.000000</td>\n",
              "      <td>...</td>\n",
              "      <td>2644.000000</td>\n",
              "      <td>2644.000000</td>\n",
              "      <td>2644.000000</td>\n",
              "      <td>2644.000000</td>\n",
              "      <td>2644.000000</td>\n",
              "      <td>2644.000000</td>\n",
              "      <td>2644.000000</td>\n",
              "      <td>2644.000000</td>\n",
              "      <td>2644.000000</td>\n",
              "      <td>2232.000000</td>\n",
              "    </tr>\n",
              "    <tr>\n",
              "      <th>mean</th>\n",
              "      <td>1363.432678</td>\n",
              "      <td>25.316944</td>\n",
              "      <td>1991.043116</td>\n",
              "      <td>9.570623e+06</td>\n",
              "      <td>181.593797</td>\n",
              "      <td>18.476172</td>\n",
              "      <td>14.329803</td>\n",
              "      <td>1285.914523</td>\n",
              "      <td>1.769289</td>\n",
              "      <td>1.231089</td>\n",
              "      <td>...</td>\n",
              "      <td>-0.502269</td>\n",
              "      <td>48.231467</td>\n",
              "      <td>1.368472</td>\n",
              "      <td>46.633812</td>\n",
              "      <td>46.901626</td>\n",
              "      <td>-0.266641</td>\n",
              "      <td>-0.006097</td>\n",
              "      <td>0.181165</td>\n",
              "      <td>0.009077</td>\n",
              "      <td>0.000448</td>\n",
              "    </tr>\n",
              "    <tr>\n",
              "      <th>std</th>\n",
              "      <td>789.855596</td>\n",
              "      <td>4.518445</td>\n",
              "      <td>67.264099</td>\n",
              "      <td>1.490187e+07</td>\n",
              "      <td>12.956865</td>\n",
              "      <td>10.939719</td>\n",
              "      <td>10.927727</td>\n",
              "      <td>947.346883</td>\n",
              "      <td>3.338358</td>\n",
              "      <td>2.011300</td>\n",
              "      <td>...</td>\n",
              "      <td>24.959058</td>\n",
              "      <td>16.780147</td>\n",
              "      <td>0.449502</td>\n",
              "      <td>13.636226</td>\n",
              "      <td>11.616728</td>\n",
              "      <td>18.711016</td>\n",
              "      <td>0.529283</td>\n",
              "      <td>0.385228</td>\n",
              "      <td>0.094859</td>\n",
              "      <td>0.021167</td>\n",
              "    </tr>\n",
              "    <tr>\n",
              "      <th>min</th>\n",
              "      <td>0.000000</td>\n",
              "      <td>0.000000</td>\n",
              "      <td>0.000000</td>\n",
              "      <td>5.000000e+01</td>\n",
              "      <td>0.000000</td>\n",
              "      <td>1.000000</td>\n",
              "      <td>0.000000</td>\n",
              "      <td>1.000000</td>\n",
              "      <td>0.000000</td>\n",
              "      <td>0.000000</td>\n",
              "      <td>...</td>\n",
              "      <td>-50.000000</td>\n",
              "      <td>13.000000</td>\n",
              "      <td>0.460000</td>\n",
              "      <td>26.800000</td>\n",
              "      <td>22.700000</td>\n",
              "      <td>-35.200000</td>\n",
              "      <td>-0.930000</td>\n",
              "      <td>0.000000</td>\n",
              "      <td>0.000000</td>\n",
              "      <td>0.000000</td>\n",
              "    </tr>\n",
              "    <tr>\n",
              "      <th>25%</th>\n",
              "      <td>680.750000</td>\n",
              "      <td>22.000000</td>\n",
              "      <td>1990.000000</td>\n",
              "      <td>1.000000e+06</td>\n",
              "      <td>178.000000</td>\n",
              "      <td>9.000000</td>\n",
              "      <td>4.000000</td>\n",
              "      <td>424.500000</td>\n",
              "      <td>0.000000</td>\n",
              "      <td>0.000000</td>\n",
              "      <td>...</td>\n",
              "      <td>-18.000000</td>\n",
              "      <td>37.000000</td>\n",
              "      <td>1.070000</td>\n",
              "      <td>37.300000</td>\n",
              "      <td>39.000000</td>\n",
              "      <td>-13.000000</td>\n",
              "      <td>-0.380000</td>\n",
              "      <td>0.000000</td>\n",
              "      <td>0.000000</td>\n",
              "      <td>0.000000</td>\n",
              "    </tr>\n",
              "    <tr>\n",
              "      <th>50%</th>\n",
              "      <td>1362.500000</td>\n",
              "      <td>25.000000</td>\n",
              "      <td>1993.000000</td>\n",
              "      <td>4.000000e+06</td>\n",
              "      <td>183.000000</td>\n",
              "      <td>19.000000</td>\n",
              "      <td>13.000000</td>\n",
              "      <td>1181.500000</td>\n",
              "      <td>0.000000</td>\n",
              "      <td>0.000000</td>\n",
              "      <td>...</td>\n",
              "      <td>-4.000000</td>\n",
              "      <td>45.000000</td>\n",
              "      <td>1.320000</td>\n",
              "      <td>42.700000</td>\n",
              "      <td>47.600000</td>\n",
              "      <td>-4.200000</td>\n",
              "      <td>-0.120000</td>\n",
              "      <td>0.000000</td>\n",
              "      <td>0.000000</td>\n",
              "      <td>0.000000</td>\n",
              "    </tr>\n",
              "    <tr>\n",
              "      <th>75%</th>\n",
              "      <td>2047.250000</td>\n",
              "      <td>28.000000</td>\n",
              "      <td>1997.000000</td>\n",
              "      <td>1.200000e+07</td>\n",
              "      <td>187.000000</td>\n",
              "      <td>28.000000</td>\n",
              "      <td>23.000000</td>\n",
              "      <td>2050.250000</td>\n",
              "      <td>2.000000</td>\n",
              "      <td>2.000000</td>\n",
              "      <td>...</td>\n",
              "      <td>14.000000</td>\n",
              "      <td>59.000000</td>\n",
              "      <td>1.630000</td>\n",
              "      <td>53.900000</td>\n",
              "      <td>54.500000</td>\n",
              "      <td>10.100000</td>\n",
              "      <td>0.330000</td>\n",
              "      <td>0.000000</td>\n",
              "      <td>0.000000</td>\n",
              "      <td>0.000000</td>\n",
              "    </tr>\n",
              "    <tr>\n",
              "      <th>max</th>\n",
              "      <td>2731.000000</td>\n",
              "      <td>41.000000</td>\n",
              "      <td>2004.000000</td>\n",
              "      <td>1.800000e+08</td>\n",
              "      <td>202.000000</td>\n",
              "      <td>38.000000</td>\n",
              "      <td>38.000000</td>\n",
              "      <td>3420.000000</td>\n",
              "      <td>36.000000</td>\n",
              "      <td>21.000000</td>\n",
              "      <td>...</td>\n",
              "      <td>68.000000</td>\n",
              "      <td>99.000000</td>\n",
              "      <td>2.610000</td>\n",
              "      <td>93.000000</td>\n",
              "      <td>84.100000</td>\n",
              "      <td>58.300000</td>\n",
              "      <td>1.780000</td>\n",
              "      <td>1.000000</td>\n",
              "      <td>1.000000</td>\n",
              "      <td>1.000000</td>\n",
              "    </tr>\n",
              "  </tbody>\n",
              "</table>\n",
              "<p>8 rows × 391 columns</p>\n",
              "</div>\n",
              "      <button class=\"colab-df-convert\" onclick=\"convertToInteractive('df-70734f9d-bbf9-4054-8db2-2691a537a67f')\"\n",
              "              title=\"Convert this dataframe to an interactive table.\"\n",
              "              style=\"display:none;\">\n",
              "        \n",
              "  <svg xmlns=\"http://www.w3.org/2000/svg\" height=\"24px\"viewBox=\"0 0 24 24\"\n",
              "       width=\"24px\">\n",
              "    <path d=\"M0 0h24v24H0V0z\" fill=\"none\"/>\n",
              "    <path d=\"M18.56 5.44l.94 2.06.94-2.06 2.06-.94-2.06-.94-.94-2.06-.94 2.06-2.06.94zm-11 1L8.5 8.5l.94-2.06 2.06-.94-2.06-.94L8.5 2.5l-.94 2.06-2.06.94zm10 10l.94 2.06.94-2.06 2.06-.94-2.06-.94-.94-2.06-.94 2.06-2.06.94z\"/><path d=\"M17.41 7.96l-1.37-1.37c-.4-.4-.92-.59-1.43-.59-.52 0-1.04.2-1.43.59L10.3 9.45l-7.72 7.72c-.78.78-.78 2.05 0 2.83L4 21.41c.39.39.9.59 1.41.59.51 0 1.02-.2 1.41-.59l7.78-7.78 2.81-2.81c.8-.78.8-2.07 0-2.86zM5.41 20L4 18.59l7.72-7.72 1.47 1.35L5.41 20z\"/>\n",
              "  </svg>\n",
              "      </button>\n",
              "      \n",
              "  <style>\n",
              "    .colab-df-container {\n",
              "      display:flex;\n",
              "      flex-wrap:wrap;\n",
              "      gap: 12px;\n",
              "    }\n",
              "\n",
              "    .colab-df-convert {\n",
              "      background-color: #E8F0FE;\n",
              "      border: none;\n",
              "      border-radius: 50%;\n",
              "      cursor: pointer;\n",
              "      display: none;\n",
              "      fill: #1967D2;\n",
              "      height: 32px;\n",
              "      padding: 0 0 0 0;\n",
              "      width: 32px;\n",
              "    }\n",
              "\n",
              "    .colab-df-convert:hover {\n",
              "      background-color: #E2EBFA;\n",
              "      box-shadow: 0px 1px 2px rgba(60, 64, 67, 0.3), 0px 1px 3px 1px rgba(60, 64, 67, 0.15);\n",
              "      fill: #174EA6;\n",
              "    }\n",
              "\n",
              "    [theme=dark] .colab-df-convert {\n",
              "      background-color: #3B4455;\n",
              "      fill: #D2E3FC;\n",
              "    }\n",
              "\n",
              "    [theme=dark] .colab-df-convert:hover {\n",
              "      background-color: #434B5C;\n",
              "      box-shadow: 0px 1px 3px 1px rgba(0, 0, 0, 0.15);\n",
              "      filter: drop-shadow(0px 1px 2px rgba(0, 0, 0, 0.3));\n",
              "      fill: #FFFFFF;\n",
              "    }\n",
              "  </style>\n",
              "\n",
              "      <script>\n",
              "        const buttonEl =\n",
              "          document.querySelector('#df-70734f9d-bbf9-4054-8db2-2691a537a67f button.colab-df-convert');\n",
              "        buttonEl.style.display =\n",
              "          google.colab.kernel.accessAllowed ? 'block' : 'none';\n",
              "\n",
              "        async function convertToInteractive(key) {\n",
              "          const element = document.querySelector('#df-70734f9d-bbf9-4054-8db2-2691a537a67f');\n",
              "          const dataTable =\n",
              "            await google.colab.kernel.invokeFunction('convertToInteractive',\n",
              "                                                     [key], {});\n",
              "          if (!dataTable) return;\n",
              "\n",
              "          const docLinkHtml = 'Like what you see? Visit the ' +\n",
              "            '<a target=\"_blank\" href=https://colab.research.google.com/notebooks/data_table.ipynb>data table notebook</a>'\n",
              "            + ' to learn more about interactive tables.';\n",
              "          element.innerHTML = '';\n",
              "          dataTable['output_type'] = 'display_data';\n",
              "          await google.colab.output.renderOutput(dataTable, element);\n",
              "          const docLink = document.createElement('div');\n",
              "          docLink.innerHTML = docLinkHtml;\n",
              "          element.appendChild(docLink);\n",
              "        }\n",
              "      </script>\n",
              "    </div>\n",
              "  </div>\n",
              "  "
            ]
          },
          "metadata": {},
          "execution_count": 5
        }
      ]
    },
    {
      "cell_type": "code",
      "source": [
        "df = df[df['age']>14]"
      ],
      "metadata": {
        "id": "jm86trWK6Fel"
      },
      "execution_count": 13,
      "outputs": []
    },
    {
      "cell_type": "code",
      "source": [
        "df.drop(df.iloc[:,:3], axis=1, inplace=True)\n",
        "df.drop(df[['foot']], axis=1, inplace=True)\n",
        "df.drop(df[['squad']], axis=1, inplace=True)\n",
        "df.drop(df[['position2']], axis=1, inplace=True)\n",
        "df.drop(df[['birth_year']], axis=1, inplace=True)\n",
        "df.drop(df[['Season']], axis=1, inplace=True)\n",
        "df.drop(df[['CLBestScorer']], axis=1, inplace=True)\n",
        "df.drop(df[['Attendance']], axis=1, inplace=True)\n",
        "# df.drop(df.loc['foot'], axis=1, inplace=True)"
      ],
      "metadata": {
        "id": "phV4SF-AiB4G",
        "colab": {
          "base_uri": "https://localhost:8080/"
        },
        "outputId": "24e834d6-4d33-4081-aadf-6a2d75321234"
      },
      "execution_count": 14,
      "outputs": [
        {
          "output_type": "stream",
          "name": "stderr",
          "text": [
            "/usr/local/lib/python3.7/dist-packages/pandas/core/frame.py:4913: SettingWithCopyWarning: \n",
            "A value is trying to be set on a copy of a slice from a DataFrame\n",
            "\n",
            "See the caveats in the documentation: https://pandas.pydata.org/pandas-docs/stable/user_guide/indexing.html#returning-a-view-versus-a-copy\n",
            "  errors=errors,\n"
          ]
        }
      ]
    },
    {
      "cell_type": "code",
      "source": [
        "df.isnull().values.any()"
      ],
      "metadata": {
        "colab": {
          "base_uri": "https://localhost:8080/"
        },
        "id": "w_R8cGo6iixG",
        "outputId": "3ecb353a-91e4-4b41-f84d-6184d9040d74"
      },
      "execution_count": null,
      "outputs": [
        {
          "output_type": "execute_result",
          "data": {
            "text/plain": [
              "False"
            ]
          },
          "metadata": {},
          "execution_count": 9
        }
      ]
    },
    {
      "cell_type": "code",
      "source": [
        "df.dtypes.value_counts()"
      ],
      "metadata": {
        "colab": {
          "base_uri": "https://localhost:8080/"
        },
        "id": "j7IVSeVojadY",
        "outputId": "9553267d-6692-484c-dff1-376c23dd50eb"
      },
      "execution_count": null,
      "outputs": [
        {
          "output_type": "execute_result",
          "data": {
            "text/plain": [
              "float64    238\n",
              "int64      150\n",
              "object       2\n",
              "dtype: int64"
            ]
          },
          "metadata": {},
          "execution_count": 10
        }
      ]
    },
    {
      "cell_type": "code",
      "source": [
        "cat_ = df.columns.to_series().groupby(df.dtypes).groups"
      ],
      "metadata": {
        "id": "PG70nLUmpSn_"
      },
      "execution_count": null,
      "outputs": []
    },
    {
      "cell_type": "code",
      "source": [
        "df.sample(10)"
      ],
      "metadata": {
        "id": "qzR3syVgH8fg",
        "colab": {
          "base_uri": "https://localhost:8080/",
          "height": 392
        },
        "outputId": "96ba5460-1299-40fb-a57a-02eff4f69d0f"
      },
      "execution_count": null,
      "outputs": [
        {
          "output_type": "execute_result",
          "data": {
            "text/plain": [
              "     position  age     value  height          league  games  games_starts  \\\n",
              "2281       FW   25   6000000     197         Ligue 1     26            24   \n",
              "1852       DF   22  28000000     186         Ligue 1      7             5   \n",
              "279     FW,MF   24  72000000     176      Bundesliga     31            26   \n",
              "481        DF   30   1000000     187  Premier League      8             4   \n",
              "415        MF   32     40000     182         Serie A     24            22   \n",
              "760        FW   28   3000000     183         La Liga     16             5   \n",
              "1825       DF   19   1000000     192      Bundesliga     15            14   \n",
              "7          FW   27   1000000     185         La Liga      5             1   \n",
              "2438       GK   30  14000000     187         La Liga     24            24   \n",
              "1508       MF   21   6000000     181      Bundesliga     22            10   \n",
              "\n",
              "      minutes  goals  assists  ...  GA  GDiff  Pts  Pts/G    xG   xGA  xGDiff  \\\n",
              "2281     2058      8        4  ...  32      0   38   1.41  35.0  30.8     4.2   \n",
              "1852      480      1        0  ...  24     51   68   2.52  70.9  22.7    48.2   \n",
              "279      2193     12       10  ...  32     68   82   2.41  82.3  34.3    48.0   \n",
              "481       361      0        0  ...  54    -15   41   1.08  41.2  54.5   -13.3   \n",
              "415      1869      2        0  ...  79    -44   25   0.66  42.4  77.7   -35.2   \n",
              "760       574      1        0  ...  58    -31   25   0.66  33.0  44.6   -11.5   \n",
              "1825     1261      0        0  ...  74    -37   20   0.59  38.6  67.4   -28.7   \n",
              "7          96      0        0  ...  59    -25   39   1.03  37.0  53.2   -16.2   \n",
              "2438     2096      0        1  ...  53     -7   53   1.39  40.3  52.3   -12.0   \n",
              "1508      898      0        4  ...  40     26   65   1.91  66.4  42.4    23.9   \n",
              "\n",
              "      xGDiff/90  CL  WinCL  \n",
              "2281       0.15   0      0  \n",
              "1852       1.78   1      0  \n",
              "279        1.41   1      0  \n",
              "481       -0.35   0      0  \n",
              "415       -0.93   0      0  \n",
              "760       -0.30   0      0  \n",
              "1825      -0.85   0      0  \n",
              "7         -0.43   0      0  \n",
              "2438      -0.32   0      0  \n",
              "1508       0.70   1      0  \n",
              "\n",
              "[10 rows x 390 columns]"
            ],
            "text/html": [
              "\n",
              "  <div id=\"df-bbed9e02-225c-4e10-b3fb-2feac1bbbf69\">\n",
              "    <div class=\"colab-df-container\">\n",
              "      <div>\n",
              "<style scoped>\n",
              "    .dataframe tbody tr th:only-of-type {\n",
              "        vertical-align: middle;\n",
              "    }\n",
              "\n",
              "    .dataframe tbody tr th {\n",
              "        vertical-align: top;\n",
              "    }\n",
              "\n",
              "    .dataframe thead th {\n",
              "        text-align: right;\n",
              "    }\n",
              "</style>\n",
              "<table border=\"1\" class=\"dataframe\">\n",
              "  <thead>\n",
              "    <tr style=\"text-align: right;\">\n",
              "      <th></th>\n",
              "      <th>position</th>\n",
              "      <th>age</th>\n",
              "      <th>value</th>\n",
              "      <th>height</th>\n",
              "      <th>league</th>\n",
              "      <th>games</th>\n",
              "      <th>games_starts</th>\n",
              "      <th>minutes</th>\n",
              "      <th>goals</th>\n",
              "      <th>assists</th>\n",
              "      <th>...</th>\n",
              "      <th>GA</th>\n",
              "      <th>GDiff</th>\n",
              "      <th>Pts</th>\n",
              "      <th>Pts/G</th>\n",
              "      <th>xG</th>\n",
              "      <th>xGA</th>\n",
              "      <th>xGDiff</th>\n",
              "      <th>xGDiff/90</th>\n",
              "      <th>CL</th>\n",
              "      <th>WinCL</th>\n",
              "    </tr>\n",
              "  </thead>\n",
              "  <tbody>\n",
              "    <tr>\n",
              "      <th>2281</th>\n",
              "      <td>FW</td>\n",
              "      <td>25</td>\n",
              "      <td>6000000</td>\n",
              "      <td>197</td>\n",
              "      <td>Ligue 1</td>\n",
              "      <td>26</td>\n",
              "      <td>24</td>\n",
              "      <td>2058</td>\n",
              "      <td>8</td>\n",
              "      <td>4</td>\n",
              "      <td>...</td>\n",
              "      <td>32</td>\n",
              "      <td>0</td>\n",
              "      <td>38</td>\n",
              "      <td>1.41</td>\n",
              "      <td>35.0</td>\n",
              "      <td>30.8</td>\n",
              "      <td>4.2</td>\n",
              "      <td>0.15</td>\n",
              "      <td>0</td>\n",
              "      <td>0</td>\n",
              "    </tr>\n",
              "    <tr>\n",
              "      <th>1852</th>\n",
              "      <td>DF</td>\n",
              "      <td>22</td>\n",
              "      <td>28000000</td>\n",
              "      <td>186</td>\n",
              "      <td>Ligue 1</td>\n",
              "      <td>7</td>\n",
              "      <td>5</td>\n",
              "      <td>480</td>\n",
              "      <td>1</td>\n",
              "      <td>0</td>\n",
              "      <td>...</td>\n",
              "      <td>24</td>\n",
              "      <td>51</td>\n",
              "      <td>68</td>\n",
              "      <td>2.52</td>\n",
              "      <td>70.9</td>\n",
              "      <td>22.7</td>\n",
              "      <td>48.2</td>\n",
              "      <td>1.78</td>\n",
              "      <td>1</td>\n",
              "      <td>0</td>\n",
              "    </tr>\n",
              "    <tr>\n",
              "      <th>279</th>\n",
              "      <td>FW,MF</td>\n",
              "      <td>24</td>\n",
              "      <td>72000000</td>\n",
              "      <td>176</td>\n",
              "      <td>Bundesliga</td>\n",
              "      <td>31</td>\n",
              "      <td>26</td>\n",
              "      <td>2193</td>\n",
              "      <td>12</td>\n",
              "      <td>10</td>\n",
              "      <td>...</td>\n",
              "      <td>32</td>\n",
              "      <td>68</td>\n",
              "      <td>82</td>\n",
              "      <td>2.41</td>\n",
              "      <td>82.3</td>\n",
              "      <td>34.3</td>\n",
              "      <td>48.0</td>\n",
              "      <td>1.41</td>\n",
              "      <td>1</td>\n",
              "      <td>0</td>\n",
              "    </tr>\n",
              "    <tr>\n",
              "      <th>481</th>\n",
              "      <td>DF</td>\n",
              "      <td>30</td>\n",
              "      <td>1000000</td>\n",
              "      <td>187</td>\n",
              "      <td>Premier League</td>\n",
              "      <td>8</td>\n",
              "      <td>4</td>\n",
              "      <td>361</td>\n",
              "      <td>0</td>\n",
              "      <td>0</td>\n",
              "      <td>...</td>\n",
              "      <td>54</td>\n",
              "      <td>-15</td>\n",
              "      <td>41</td>\n",
              "      <td>1.08</td>\n",
              "      <td>41.2</td>\n",
              "      <td>54.5</td>\n",
              "      <td>-13.3</td>\n",
              "      <td>-0.35</td>\n",
              "      <td>0</td>\n",
              "      <td>0</td>\n",
              "    </tr>\n",
              "    <tr>\n",
              "      <th>415</th>\n",
              "      <td>MF</td>\n",
              "      <td>32</td>\n",
              "      <td>40000</td>\n",
              "      <td>182</td>\n",
              "      <td>Serie A</td>\n",
              "      <td>24</td>\n",
              "      <td>22</td>\n",
              "      <td>1869</td>\n",
              "      <td>2</td>\n",
              "      <td>0</td>\n",
              "      <td>...</td>\n",
              "      <td>79</td>\n",
              "      <td>-44</td>\n",
              "      <td>25</td>\n",
              "      <td>0.66</td>\n",
              "      <td>42.4</td>\n",
              "      <td>77.7</td>\n",
              "      <td>-35.2</td>\n",
              "      <td>-0.93</td>\n",
              "      <td>0</td>\n",
              "      <td>0</td>\n",
              "    </tr>\n",
              "    <tr>\n",
              "      <th>760</th>\n",
              "      <td>FW</td>\n",
              "      <td>28</td>\n",
              "      <td>3000000</td>\n",
              "      <td>183</td>\n",
              "      <td>La Liga</td>\n",
              "      <td>16</td>\n",
              "      <td>5</td>\n",
              "      <td>574</td>\n",
              "      <td>1</td>\n",
              "      <td>0</td>\n",
              "      <td>...</td>\n",
              "      <td>58</td>\n",
              "      <td>-31</td>\n",
              "      <td>25</td>\n",
              "      <td>0.66</td>\n",
              "      <td>33.0</td>\n",
              "      <td>44.6</td>\n",
              "      <td>-11.5</td>\n",
              "      <td>-0.30</td>\n",
              "      <td>0</td>\n",
              "      <td>0</td>\n",
              "    </tr>\n",
              "    <tr>\n",
              "      <th>1825</th>\n",
              "      <td>DF</td>\n",
              "      <td>19</td>\n",
              "      <td>1000000</td>\n",
              "      <td>192</td>\n",
              "      <td>Bundesliga</td>\n",
              "      <td>15</td>\n",
              "      <td>14</td>\n",
              "      <td>1261</td>\n",
              "      <td>0</td>\n",
              "      <td>0</td>\n",
              "      <td>...</td>\n",
              "      <td>74</td>\n",
              "      <td>-37</td>\n",
              "      <td>20</td>\n",
              "      <td>0.59</td>\n",
              "      <td>38.6</td>\n",
              "      <td>67.4</td>\n",
              "      <td>-28.7</td>\n",
              "      <td>-0.85</td>\n",
              "      <td>0</td>\n",
              "      <td>0</td>\n",
              "    </tr>\n",
              "    <tr>\n",
              "      <th>7</th>\n",
              "      <td>FW</td>\n",
              "      <td>27</td>\n",
              "      <td>1000000</td>\n",
              "      <td>185</td>\n",
              "      <td>La Liga</td>\n",
              "      <td>5</td>\n",
              "      <td>1</td>\n",
              "      <td>96</td>\n",
              "      <td>0</td>\n",
              "      <td>0</td>\n",
              "      <td>...</td>\n",
              "      <td>59</td>\n",
              "      <td>-25</td>\n",
              "      <td>39</td>\n",
              "      <td>1.03</td>\n",
              "      <td>37.0</td>\n",
              "      <td>53.2</td>\n",
              "      <td>-16.2</td>\n",
              "      <td>-0.43</td>\n",
              "      <td>0</td>\n",
              "      <td>0</td>\n",
              "    </tr>\n",
              "    <tr>\n",
              "      <th>2438</th>\n",
              "      <td>GK</td>\n",
              "      <td>30</td>\n",
              "      <td>14000000</td>\n",
              "      <td>187</td>\n",
              "      <td>La Liga</td>\n",
              "      <td>24</td>\n",
              "      <td>24</td>\n",
              "      <td>2096</td>\n",
              "      <td>0</td>\n",
              "      <td>1</td>\n",
              "      <td>...</td>\n",
              "      <td>53</td>\n",
              "      <td>-7</td>\n",
              "      <td>53</td>\n",
              "      <td>1.39</td>\n",
              "      <td>40.3</td>\n",
              "      <td>52.3</td>\n",
              "      <td>-12.0</td>\n",
              "      <td>-0.32</td>\n",
              "      <td>0</td>\n",
              "      <td>0</td>\n",
              "    </tr>\n",
              "    <tr>\n",
              "      <th>1508</th>\n",
              "      <td>MF</td>\n",
              "      <td>21</td>\n",
              "      <td>6000000</td>\n",
              "      <td>181</td>\n",
              "      <td>Bundesliga</td>\n",
              "      <td>22</td>\n",
              "      <td>10</td>\n",
              "      <td>898</td>\n",
              "      <td>0</td>\n",
              "      <td>4</td>\n",
              "      <td>...</td>\n",
              "      <td>40</td>\n",
              "      <td>26</td>\n",
              "      <td>65</td>\n",
              "      <td>1.91</td>\n",
              "      <td>66.4</td>\n",
              "      <td>42.4</td>\n",
              "      <td>23.9</td>\n",
              "      <td>0.70</td>\n",
              "      <td>1</td>\n",
              "      <td>0</td>\n",
              "    </tr>\n",
              "  </tbody>\n",
              "</table>\n",
              "<p>10 rows × 390 columns</p>\n",
              "</div>\n",
              "      <button class=\"colab-df-convert\" onclick=\"convertToInteractive('df-bbed9e02-225c-4e10-b3fb-2feac1bbbf69')\"\n",
              "              title=\"Convert this dataframe to an interactive table.\"\n",
              "              style=\"display:none;\">\n",
              "        \n",
              "  <svg xmlns=\"http://www.w3.org/2000/svg\" height=\"24px\"viewBox=\"0 0 24 24\"\n",
              "       width=\"24px\">\n",
              "    <path d=\"M0 0h24v24H0V0z\" fill=\"none\"/>\n",
              "    <path d=\"M18.56 5.44l.94 2.06.94-2.06 2.06-.94-2.06-.94-.94-2.06-.94 2.06-2.06.94zm-11 1L8.5 8.5l.94-2.06 2.06-.94-2.06-.94L8.5 2.5l-.94 2.06-2.06.94zm10 10l.94 2.06.94-2.06 2.06-.94-2.06-.94-.94-2.06-.94 2.06-2.06.94z\"/><path d=\"M17.41 7.96l-1.37-1.37c-.4-.4-.92-.59-1.43-.59-.52 0-1.04.2-1.43.59L10.3 9.45l-7.72 7.72c-.78.78-.78 2.05 0 2.83L4 21.41c.39.39.9.59 1.41.59.51 0 1.02-.2 1.41-.59l7.78-7.78 2.81-2.81c.8-.78.8-2.07 0-2.86zM5.41 20L4 18.59l7.72-7.72 1.47 1.35L5.41 20z\"/>\n",
              "  </svg>\n",
              "      </button>\n",
              "      \n",
              "  <style>\n",
              "    .colab-df-container {\n",
              "      display:flex;\n",
              "      flex-wrap:wrap;\n",
              "      gap: 12px;\n",
              "    }\n",
              "\n",
              "    .colab-df-convert {\n",
              "      background-color: #E8F0FE;\n",
              "      border: none;\n",
              "      border-radius: 50%;\n",
              "      cursor: pointer;\n",
              "      display: none;\n",
              "      fill: #1967D2;\n",
              "      height: 32px;\n",
              "      padding: 0 0 0 0;\n",
              "      width: 32px;\n",
              "    }\n",
              "\n",
              "    .colab-df-convert:hover {\n",
              "      background-color: #E2EBFA;\n",
              "      box-shadow: 0px 1px 2px rgba(60, 64, 67, 0.3), 0px 1px 3px 1px rgba(60, 64, 67, 0.15);\n",
              "      fill: #174EA6;\n",
              "    }\n",
              "\n",
              "    [theme=dark] .colab-df-convert {\n",
              "      background-color: #3B4455;\n",
              "      fill: #D2E3FC;\n",
              "    }\n",
              "\n",
              "    [theme=dark] .colab-df-convert:hover {\n",
              "      background-color: #434B5C;\n",
              "      box-shadow: 0px 1px 3px 1px rgba(0, 0, 0, 0.15);\n",
              "      filter: drop-shadow(0px 1px 2px rgba(0, 0, 0, 0.3));\n",
              "      fill: #FFFFFF;\n",
              "    }\n",
              "  </style>\n",
              "\n",
              "      <script>\n",
              "        const buttonEl =\n",
              "          document.querySelector('#df-bbed9e02-225c-4e10-b3fb-2feac1bbbf69 button.colab-df-convert');\n",
              "        buttonEl.style.display =\n",
              "          google.colab.kernel.accessAllowed ? 'block' : 'none';\n",
              "\n",
              "        async function convertToInteractive(key) {\n",
              "          const element = document.querySelector('#df-bbed9e02-225c-4e10-b3fb-2feac1bbbf69');\n",
              "          const dataTable =\n",
              "            await google.colab.kernel.invokeFunction('convertToInteractive',\n",
              "                                                     [key], {});\n",
              "          if (!dataTable) return;\n",
              "\n",
              "          const docLinkHtml = 'Like what you see? Visit the ' +\n",
              "            '<a target=\"_blank\" href=https://colab.research.google.com/notebooks/data_table.ipynb>data table notebook</a>'\n",
              "            + ' to learn more about interactive tables.';\n",
              "          element.innerHTML = '';\n",
              "          dataTable['output_type'] = 'display_data';\n",
              "          await google.colab.output.renderOutput(dataTable, element);\n",
              "          const docLink = document.createElement('div');\n",
              "          docLink.innerHTML = docLinkHtml;\n",
              "          element.appendChild(docLink);\n",
              "        }\n",
              "      </script>\n",
              "    </div>\n",
              "  </div>\n",
              "  "
            ]
          },
          "metadata": {},
          "execution_count": 12
        }
      ]
    },
    {
      "cell_type": "code",
      "source": [
        "df['position'].value_counts()"
      ],
      "metadata": {
        "colab": {
          "base_uri": "https://localhost:8080/"
        },
        "id": "2V8XNUiqFmCs",
        "outputId": "651371fa-c0df-40e6-dd1f-36729393c100"
      },
      "execution_count": null,
      "outputs": [
        {
          "output_type": "execute_result",
          "data": {
            "text/plain": [
              "DF       852\n",
              "MF       570\n",
              "FW       368\n",
              "MF,FW    245\n",
              "FW,MF    244\n",
              "GK       195\n",
              "DF,MF     76\n",
              "MF,DF     56\n",
              "DF,FW     21\n",
              "FW,DF     17\n",
              "Name: position, dtype: int64"
            ]
          },
          "metadata": {},
          "execution_count": 13
        }
      ]
    },
    {
      "cell_type": "code",
      "source": [
        "df = df.loc[df['position'].str.contains('FW', case=False)] #Sortowanie po ofensywnych"
      ],
      "metadata": {
        "id": "tKojEs1tDJi5"
      },
      "execution_count": null,
      "outputs": []
    },
    {
      "cell_type": "code",
      "source": [
        "c = df.corr().abs().unstack()\n",
        "\n",
        "so = c.sort_values(kind=\"quicksort\", ascending=False)\n",
        "print(so['value'][0:50]) #najwieksza korelacja do value top 50"
      ],
      "metadata": {
        "id": "lH_PH7M1EFK-",
        "colab": {
          "base_uri": "https://localhost:8080/"
        },
        "outputId": "01d5b89c-5b23-4f4f-fa80-8d1b00651f28"
      },
      "execution_count": null,
      "outputs": [
        {
          "output_type": "stream",
          "name": "stdout",
          "text": [
            "value                         1.000000\n",
            "touches_att_pen_area          0.598144\n",
            "shots_on_target               0.574917\n",
            "npxg                          0.572134\n",
            "touches_att_3rd               0.564519\n",
            "gca                           0.561949\n",
            "goals                         0.559121\n",
            "xa                            0.552004\n",
            "xg                            0.549880\n",
            "gca_passes_live               0.547799\n",
            "passes_completed_short        0.539592\n",
            "passes_into_penalty_area      0.538908\n",
            "sca_passes_live               0.534285\n",
            "passes_received               0.534153\n",
            "passes_short                  0.533972\n",
            "shots_total                   0.533851\n",
            "passes_ground                 0.533344\n",
            "carries                       0.524544\n",
            "pass_targets                  0.519787\n",
            "sca                           0.518976\n",
            "sca_dribbles                  0.510042\n",
            "W                             0.507880\n",
            "GDiff                         0.504020\n",
            "dribbles                      0.503221\n",
            "touches_live_ball             0.498666\n",
            "passes_live                   0.498517\n",
            "passes_completed              0.497971\n",
            "GF                            0.497765\n",
            "xGDiff/90                     0.497729\n",
            "players_dribbled_past         0.496661\n",
            "carry_progressive_distance    0.496521\n",
            "Pts                           0.496399\n",
            "carry_distance                0.494601\n",
            "dribbles_completed            0.491622\n",
            "Pts/G                         0.490393\n",
            "touches                       0.489210\n",
            "through_balls                 0.487893\n",
            "xGDiff                        0.487232\n",
            "progressive_passes            0.483634\n",
            "assists                       0.482686\n",
            "passes                        0.480184\n",
            "passes_intercepted            0.479907\n",
            "xG                            0.472254\n",
            "assisted_shots                0.464213\n",
            "passes_total_distance         0.455636\n",
            "passes_completed_medium       0.450273\n",
            "passes_pressure               0.446641\n",
            "passes_medium                 0.444536\n",
            "CL                            0.442100\n",
            "touches_mid_3rd               0.440197\n",
            "dtype: float64\n"
          ]
        }
      ]
    },
    {
      "cell_type": "code",
      "source": [
        "cc = so['value'][0:91]"
      ],
      "metadata": {
        "id": "UuT_FxTXJArc"
      },
      "execution_count": null,
      "outputs": []
    },
    {
      "cell_type": "code",
      "source": [
        "c_col = [i for i in cc.keys()] #lista kolumnt do korelacji z value"
      ],
      "metadata": {
        "id": "CCjTh5asJGQN"
      },
      "execution_count": null,
      "outputs": []
    },
    {
      "cell_type": "code",
      "source": [
        "df = df[c_col]"
      ],
      "metadata": {
        "id": "PQanYr14JSoF"
      },
      "execution_count": null,
      "outputs": []
    },
    {
      "cell_type": "code",
      "source": [
        "# df = df.loc[df['position'].str.contains('DF', case=False)] #Sortowanie po ofensywnych\n",
        "# df = df.loc[df['position']=='DF'] #Sortowanie po ofensywnych"
      ],
      "metadata": {
        "id": "JF87zrycFv6T"
      },
      "execution_count": null,
      "outputs": []
    },
    {
      "cell_type": "code",
      "source": [
        "df"
      ],
      "metadata": {
        "colab": {
          "base_uri": "https://localhost:8080/",
          "height": 488
        },
        "id": "V_hYQvlLEmTr",
        "outputId": "f5da8a4a-e21d-490e-d63c-c4254ffaddde"
      },
      "execution_count": null,
      "outputs": [
        {
          "output_type": "execute_result",
          "data": {
            "text/plain": [
              "         value  touches_att_pen_area  shots_on_target  npxg  touches_att_3rd  \\\n",
              "1      4000000                    57                9   3.2              242   \n",
              "7      1000000                     2                0   0.2               21   \n",
              "8      5000000                   135               28   9.8              526   \n",
              "11       45000                     1                1   0.0                2   \n",
              "16     1600000                    17                4   0.5              126   \n",
              "...        ...                   ...              ...   ...              ...   \n",
              "2632   2000000                     0                0   0.0                2   \n",
              "2633  40000000                   155               26   9.6              628   \n",
              "2636  11000000                    44                6   2.0              280   \n",
              "2639  12000000                    16                4   1.6               84   \n",
              "2641  25000000                   118                4   3.5              767   \n",
              "\n",
              "      gca  goals   xa    xg  gca_passes_live  ...  npxg_xa_per90  gca_shots  \\\n",
              "1       2      1  1.2   3.2                2  ...           0.27          0   \n",
              "7       0      0  0.0   0.2                0  ...           0.23          0   \n",
              "8      13     11  2.2  10.5                7  ...           0.39          5   \n",
              "11      0      0  0.0   0.0                0  ...           0.10          0   \n",
              "16      0      1  0.6   0.5                0  ...           0.11          0   \n",
              "...   ...    ...  ...   ...              ...  ...            ...        ...   \n",
              "2632    0      0  0.0   0.0                0  ...           0.00          0   \n",
              "2633    6      7  3.7   9.6                4  ...           0.53          1   \n",
              "2636    8      3  2.3   2.0                4  ...           0.42          0   \n",
              "2639    2      1  0.4   1.6                0  ...           0.62          0   \n",
              "2641   15      4  6.7   3.5               11  ...           0.35          0   \n",
              "\n",
              "      xg_xa_per90  tackles_won  passes_oob  passes_switches  blocks  \\\n",
              "1            0.27            5           4                3      25   \n",
              "7            0.23            2           2                1       1   \n",
              "8            0.41           16          33               15      39   \n",
              "11           0.10            0           0                0       0   \n",
              "16           0.11            8           4                5      18   \n",
              "...           ...          ...         ...              ...     ...   \n",
              "2632         0.00            0           0                0       1   \n",
              "2633         0.53           21          14               22      17   \n",
              "2636         0.42            5           8               14       5   \n",
              "2639         0.62            2           3                0       5   \n",
              "2641         0.35            3          19               36      13   \n",
              "\n",
              "      passes_offsides  passes_other_body  pens_won  \n",
              "1                   1                  2         0  \n",
              "7                   0                  0         0  \n",
              "8                  14                 33         1  \n",
              "11                  0                  0         0  \n",
              "16                  0                  0         0  \n",
              "...               ...                ...       ...  \n",
              "2632                0                  0         0  \n",
              "2633                4                  7         0  \n",
              "2636                1                  4         0  \n",
              "2639                1                  0         1  \n",
              "2641                1                  7         0  \n",
              "\n",
              "[895 rows x 91 columns]"
            ],
            "text/html": [
              "\n",
              "  <div id=\"df-9884cb0f-1242-4de2-ac12-6959fb7f433f\">\n",
              "    <div class=\"colab-df-container\">\n",
              "      <div>\n",
              "<style scoped>\n",
              "    .dataframe tbody tr th:only-of-type {\n",
              "        vertical-align: middle;\n",
              "    }\n",
              "\n",
              "    .dataframe tbody tr th {\n",
              "        vertical-align: top;\n",
              "    }\n",
              "\n",
              "    .dataframe thead th {\n",
              "        text-align: right;\n",
              "    }\n",
              "</style>\n",
              "<table border=\"1\" class=\"dataframe\">\n",
              "  <thead>\n",
              "    <tr style=\"text-align: right;\">\n",
              "      <th></th>\n",
              "      <th>value</th>\n",
              "      <th>touches_att_pen_area</th>\n",
              "      <th>shots_on_target</th>\n",
              "      <th>npxg</th>\n",
              "      <th>touches_att_3rd</th>\n",
              "      <th>gca</th>\n",
              "      <th>goals</th>\n",
              "      <th>xa</th>\n",
              "      <th>xg</th>\n",
              "      <th>gca_passes_live</th>\n",
              "      <th>...</th>\n",
              "      <th>npxg_xa_per90</th>\n",
              "      <th>gca_shots</th>\n",
              "      <th>xg_xa_per90</th>\n",
              "      <th>tackles_won</th>\n",
              "      <th>passes_oob</th>\n",
              "      <th>passes_switches</th>\n",
              "      <th>blocks</th>\n",
              "      <th>passes_offsides</th>\n",
              "      <th>passes_other_body</th>\n",
              "      <th>pens_won</th>\n",
              "    </tr>\n",
              "  </thead>\n",
              "  <tbody>\n",
              "    <tr>\n",
              "      <th>1</th>\n",
              "      <td>4000000</td>\n",
              "      <td>57</td>\n",
              "      <td>9</td>\n",
              "      <td>3.2</td>\n",
              "      <td>242</td>\n",
              "      <td>2</td>\n",
              "      <td>1</td>\n",
              "      <td>1.2</td>\n",
              "      <td>3.2</td>\n",
              "      <td>2</td>\n",
              "      <td>...</td>\n",
              "      <td>0.27</td>\n",
              "      <td>0</td>\n",
              "      <td>0.27</td>\n",
              "      <td>5</td>\n",
              "      <td>4</td>\n",
              "      <td>3</td>\n",
              "      <td>25</td>\n",
              "      <td>1</td>\n",
              "      <td>2</td>\n",
              "      <td>0</td>\n",
              "    </tr>\n",
              "    <tr>\n",
              "      <th>7</th>\n",
              "      <td>1000000</td>\n",
              "      <td>2</td>\n",
              "      <td>0</td>\n",
              "      <td>0.2</td>\n",
              "      <td>21</td>\n",
              "      <td>0</td>\n",
              "      <td>0</td>\n",
              "      <td>0.0</td>\n",
              "      <td>0.2</td>\n",
              "      <td>0</td>\n",
              "      <td>...</td>\n",
              "      <td>0.23</td>\n",
              "      <td>0</td>\n",
              "      <td>0.23</td>\n",
              "      <td>2</td>\n",
              "      <td>2</td>\n",
              "      <td>1</td>\n",
              "      <td>1</td>\n",
              "      <td>0</td>\n",
              "      <td>0</td>\n",
              "      <td>0</td>\n",
              "    </tr>\n",
              "    <tr>\n",
              "      <th>8</th>\n",
              "      <td>5000000</td>\n",
              "      <td>135</td>\n",
              "      <td>28</td>\n",
              "      <td>9.8</td>\n",
              "      <td>526</td>\n",
              "      <td>13</td>\n",
              "      <td>11</td>\n",
              "      <td>2.2</td>\n",
              "      <td>10.5</td>\n",
              "      <td>7</td>\n",
              "      <td>...</td>\n",
              "      <td>0.39</td>\n",
              "      <td>5</td>\n",
              "      <td>0.41</td>\n",
              "      <td>16</td>\n",
              "      <td>33</td>\n",
              "      <td>15</td>\n",
              "      <td>39</td>\n",
              "      <td>14</td>\n",
              "      <td>33</td>\n",
              "      <td>1</td>\n",
              "    </tr>\n",
              "    <tr>\n",
              "      <th>11</th>\n",
              "      <td>45000</td>\n",
              "      <td>1</td>\n",
              "      <td>1</td>\n",
              "      <td>0.0</td>\n",
              "      <td>2</td>\n",
              "      <td>0</td>\n",
              "      <td>0</td>\n",
              "      <td>0.0</td>\n",
              "      <td>0.0</td>\n",
              "      <td>0</td>\n",
              "      <td>...</td>\n",
              "      <td>0.10</td>\n",
              "      <td>0</td>\n",
              "      <td>0.10</td>\n",
              "      <td>0</td>\n",
              "      <td>0</td>\n",
              "      <td>0</td>\n",
              "      <td>0</td>\n",
              "      <td>0</td>\n",
              "      <td>0</td>\n",
              "      <td>0</td>\n",
              "    </tr>\n",
              "    <tr>\n",
              "      <th>16</th>\n",
              "      <td>1600000</td>\n",
              "      <td>17</td>\n",
              "      <td>4</td>\n",
              "      <td>0.5</td>\n",
              "      <td>126</td>\n",
              "      <td>0</td>\n",
              "      <td>1</td>\n",
              "      <td>0.6</td>\n",
              "      <td>0.5</td>\n",
              "      <td>0</td>\n",
              "      <td>...</td>\n",
              "      <td>0.11</td>\n",
              "      <td>0</td>\n",
              "      <td>0.11</td>\n",
              "      <td>8</td>\n",
              "      <td>4</td>\n",
              "      <td>5</td>\n",
              "      <td>18</td>\n",
              "      <td>0</td>\n",
              "      <td>0</td>\n",
              "      <td>0</td>\n",
              "    </tr>\n",
              "    <tr>\n",
              "      <th>...</th>\n",
              "      <td>...</td>\n",
              "      <td>...</td>\n",
              "      <td>...</td>\n",
              "      <td>...</td>\n",
              "      <td>...</td>\n",
              "      <td>...</td>\n",
              "      <td>...</td>\n",
              "      <td>...</td>\n",
              "      <td>...</td>\n",
              "      <td>...</td>\n",
              "      <td>...</td>\n",
              "      <td>...</td>\n",
              "      <td>...</td>\n",
              "      <td>...</td>\n",
              "      <td>...</td>\n",
              "      <td>...</td>\n",
              "      <td>...</td>\n",
              "      <td>...</td>\n",
              "      <td>...</td>\n",
              "      <td>...</td>\n",
              "      <td>...</td>\n",
              "    </tr>\n",
              "    <tr>\n",
              "      <th>2632</th>\n",
              "      <td>2000000</td>\n",
              "      <td>0</td>\n",
              "      <td>0</td>\n",
              "      <td>0.0</td>\n",
              "      <td>2</td>\n",
              "      <td>0</td>\n",
              "      <td>0</td>\n",
              "      <td>0.0</td>\n",
              "      <td>0.0</td>\n",
              "      <td>0</td>\n",
              "      <td>...</td>\n",
              "      <td>0.00</td>\n",
              "      <td>0</td>\n",
              "      <td>0.00</td>\n",
              "      <td>0</td>\n",
              "      <td>0</td>\n",
              "      <td>0</td>\n",
              "      <td>1</td>\n",
              "      <td>0</td>\n",
              "      <td>0</td>\n",
              "      <td>0</td>\n",
              "    </tr>\n",
              "    <tr>\n",
              "      <th>2633</th>\n",
              "      <td>40000000</td>\n",
              "      <td>155</td>\n",
              "      <td>26</td>\n",
              "      <td>9.6</td>\n",
              "      <td>628</td>\n",
              "      <td>6</td>\n",
              "      <td>7</td>\n",
              "      <td>3.7</td>\n",
              "      <td>9.6</td>\n",
              "      <td>4</td>\n",
              "      <td>...</td>\n",
              "      <td>0.53</td>\n",
              "      <td>1</td>\n",
              "      <td>0.53</td>\n",
              "      <td>21</td>\n",
              "      <td>14</td>\n",
              "      <td>22</td>\n",
              "      <td>17</td>\n",
              "      <td>4</td>\n",
              "      <td>7</td>\n",
              "      <td>0</td>\n",
              "    </tr>\n",
              "    <tr>\n",
              "      <th>2636</th>\n",
              "      <td>11000000</td>\n",
              "      <td>44</td>\n",
              "      <td>6</td>\n",
              "      <td>2.0</td>\n",
              "      <td>280</td>\n",
              "      <td>8</td>\n",
              "      <td>3</td>\n",
              "      <td>2.3</td>\n",
              "      <td>2.0</td>\n",
              "      <td>4</td>\n",
              "      <td>...</td>\n",
              "      <td>0.42</td>\n",
              "      <td>0</td>\n",
              "      <td>0.42</td>\n",
              "      <td>5</td>\n",
              "      <td>8</td>\n",
              "      <td>14</td>\n",
              "      <td>5</td>\n",
              "      <td>1</td>\n",
              "      <td>4</td>\n",
              "      <td>0</td>\n",
              "    </tr>\n",
              "    <tr>\n",
              "      <th>2639</th>\n",
              "      <td>12000000</td>\n",
              "      <td>16</td>\n",
              "      <td>4</td>\n",
              "      <td>1.6</td>\n",
              "      <td>84</td>\n",
              "      <td>2</td>\n",
              "      <td>1</td>\n",
              "      <td>0.4</td>\n",
              "      <td>1.6</td>\n",
              "      <td>0</td>\n",
              "      <td>...</td>\n",
              "      <td>0.62</td>\n",
              "      <td>0</td>\n",
              "      <td>0.62</td>\n",
              "      <td>2</td>\n",
              "      <td>3</td>\n",
              "      <td>0</td>\n",
              "      <td>5</td>\n",
              "      <td>1</td>\n",
              "      <td>0</td>\n",
              "      <td>1</td>\n",
              "    </tr>\n",
              "    <tr>\n",
              "      <th>2641</th>\n",
              "      <td>25000000</td>\n",
              "      <td>118</td>\n",
              "      <td>4</td>\n",
              "      <td>3.5</td>\n",
              "      <td>767</td>\n",
              "      <td>15</td>\n",
              "      <td>4</td>\n",
              "      <td>6.7</td>\n",
              "      <td>3.5</td>\n",
              "      <td>11</td>\n",
              "      <td>...</td>\n",
              "      <td>0.35</td>\n",
              "      <td>0</td>\n",
              "      <td>0.35</td>\n",
              "      <td>3</td>\n",
              "      <td>19</td>\n",
              "      <td>36</td>\n",
              "      <td>13</td>\n",
              "      <td>1</td>\n",
              "      <td>7</td>\n",
              "      <td>0</td>\n",
              "    </tr>\n",
              "  </tbody>\n",
              "</table>\n",
              "<p>895 rows × 91 columns</p>\n",
              "</div>\n",
              "      <button class=\"colab-df-convert\" onclick=\"convertToInteractive('df-9884cb0f-1242-4de2-ac12-6959fb7f433f')\"\n",
              "              title=\"Convert this dataframe to an interactive table.\"\n",
              "              style=\"display:none;\">\n",
              "        \n",
              "  <svg xmlns=\"http://www.w3.org/2000/svg\" height=\"24px\"viewBox=\"0 0 24 24\"\n",
              "       width=\"24px\">\n",
              "    <path d=\"M0 0h24v24H0V0z\" fill=\"none\"/>\n",
              "    <path d=\"M18.56 5.44l.94 2.06.94-2.06 2.06-.94-2.06-.94-.94-2.06-.94 2.06-2.06.94zm-11 1L8.5 8.5l.94-2.06 2.06-.94-2.06-.94L8.5 2.5l-.94 2.06-2.06.94zm10 10l.94 2.06.94-2.06 2.06-.94-2.06-.94-.94-2.06-.94 2.06-2.06.94z\"/><path d=\"M17.41 7.96l-1.37-1.37c-.4-.4-.92-.59-1.43-.59-.52 0-1.04.2-1.43.59L10.3 9.45l-7.72 7.72c-.78.78-.78 2.05 0 2.83L4 21.41c.39.39.9.59 1.41.59.51 0 1.02-.2 1.41-.59l7.78-7.78 2.81-2.81c.8-.78.8-2.07 0-2.86zM5.41 20L4 18.59l7.72-7.72 1.47 1.35L5.41 20z\"/>\n",
              "  </svg>\n",
              "      </button>\n",
              "      \n",
              "  <style>\n",
              "    .colab-df-container {\n",
              "      display:flex;\n",
              "      flex-wrap:wrap;\n",
              "      gap: 12px;\n",
              "    }\n",
              "\n",
              "    .colab-df-convert {\n",
              "      background-color: #E8F0FE;\n",
              "      border: none;\n",
              "      border-radius: 50%;\n",
              "      cursor: pointer;\n",
              "      display: none;\n",
              "      fill: #1967D2;\n",
              "      height: 32px;\n",
              "      padding: 0 0 0 0;\n",
              "      width: 32px;\n",
              "    }\n",
              "\n",
              "    .colab-df-convert:hover {\n",
              "      background-color: #E2EBFA;\n",
              "      box-shadow: 0px 1px 2px rgba(60, 64, 67, 0.3), 0px 1px 3px 1px rgba(60, 64, 67, 0.15);\n",
              "      fill: #174EA6;\n",
              "    }\n",
              "\n",
              "    [theme=dark] .colab-df-convert {\n",
              "      background-color: #3B4455;\n",
              "      fill: #D2E3FC;\n",
              "    }\n",
              "\n",
              "    [theme=dark] .colab-df-convert:hover {\n",
              "      background-color: #434B5C;\n",
              "      box-shadow: 0px 1px 3px 1px rgba(0, 0, 0, 0.15);\n",
              "      filter: drop-shadow(0px 1px 2px rgba(0, 0, 0, 0.3));\n",
              "      fill: #FFFFFF;\n",
              "    }\n",
              "  </style>\n",
              "\n",
              "      <script>\n",
              "        const buttonEl =\n",
              "          document.querySelector('#df-9884cb0f-1242-4de2-ac12-6959fb7f433f button.colab-df-convert');\n",
              "        buttonEl.style.display =\n",
              "          google.colab.kernel.accessAllowed ? 'block' : 'none';\n",
              "\n",
              "        async function convertToInteractive(key) {\n",
              "          const element = document.querySelector('#df-9884cb0f-1242-4de2-ac12-6959fb7f433f');\n",
              "          const dataTable =\n",
              "            await google.colab.kernel.invokeFunction('convertToInteractive',\n",
              "                                                     [key], {});\n",
              "          if (!dataTable) return;\n",
              "\n",
              "          const docLinkHtml = 'Like what you see? Visit the ' +\n",
              "            '<a target=\"_blank\" href=https://colab.research.google.com/notebooks/data_table.ipynb>data table notebook</a>'\n",
              "            + ' to learn more about interactive tables.';\n",
              "          element.innerHTML = '';\n",
              "          dataTable['output_type'] = 'display_data';\n",
              "          await google.colab.output.renderOutput(dataTable, element);\n",
              "          const docLink = document.createElement('div');\n",
              "          docLink.innerHTML = docLinkHtml;\n",
              "          element.appendChild(docLink);\n",
              "        }\n",
              "      </script>\n",
              "    </div>\n",
              "  </div>\n",
              "  "
            ]
          },
          "metadata": {},
          "execution_count": 20
        }
      ]
    },
    {
      "cell_type": "code",
      "source": [
        "df = df[df['value'] > 50000]\n"
      ],
      "metadata": {
        "id": "jmCdtGpP0pu9"
      },
      "execution_count": null,
      "outputs": []
    },
    {
      "cell_type": "code",
      "source": [
        "# bez corr\n",
        "# from sklearn.preprocessing import OneHotEncoder\n",
        "\n",
        "# encoder = OneHotEncoder()\n",
        "# encoder_df = pd.DataFrame(encoder.fit_transform(df[['league']]).toarray())\n",
        "# for column in encoder_df:\n",
        "#     df[column] = encoder_df[column].tolist()\n",
        "    \n",
        "\n",
        "# # df2.drop('league', axis=1, inplace=True)\n",
        "# df.drop('position', axis=1, inplace=True)\n",
        "# df.drop('league', axis=1, inplace=True)\n",
        "\n",
        "# df.head()"
      ],
      "metadata": {
        "id": "dmGnyLCbm_-C"
      },
      "execution_count": null,
      "outputs": []
    },
    {
      "cell_type": "code",
      "source": [
        "df.isnull().values.any()"
      ],
      "metadata": {
        "colab": {
          "base_uri": "https://localhost:8080/"
        },
        "id": "KThBfzfRpzWO",
        "outputId": "4e2836f7-137f-42d6-f71d-9ab84de687c2"
      },
      "execution_count": null,
      "outputs": [
        {
          "output_type": "execute_result",
          "data": {
            "text/plain": [
              "False"
            ]
          },
          "metadata": {},
          "execution_count": 23
        }
      ]
    },
    {
      "cell_type": "code",
      "source": [
        "df.dtypes.value_counts()"
      ],
      "metadata": {
        "colab": {
          "base_uri": "https://localhost:8080/"
        },
        "id": "uvaJ8OvqnWY_",
        "outputId": "e5eb13eb-7387-4048-942a-86d798510c88"
      },
      "execution_count": null,
      "outputs": [
        {
          "output_type": "execute_result",
          "data": {
            "text/plain": [
              "int64      80\n",
              "float64    11\n",
              "dtype: int64"
            ]
          },
          "metadata": {},
          "execution_count": 24
        }
      ]
    },
    {
      "cell_type": "code",
      "source": [
        "df.sample(5)"
      ],
      "metadata": {
        "colab": {
          "base_uri": "https://localhost:8080/",
          "height": 299
        },
        "id": "J_z8tM2PncyC",
        "outputId": "487b9e2c-c2d0-4983-8fe6-7520637dcd9d"
      },
      "execution_count": null,
      "outputs": [
        {
          "output_type": "execute_result",
          "data": {
            "text/plain": [
              "         value  touches_att_pen_area  shots_on_target  npxg  touches_att_3rd  \\\n",
              "815   48000000                   173               40   9.7              686   \n",
              "276   10000000                    10                1   0.6              103   \n",
              "975    3000000                    68               11   4.1              424   \n",
              "2165     60000                     4                1   0.1               20   \n",
              "550      65000                     4                0   0.0               14   \n",
              "\n",
              "      gca  goals   xa    xg  gca_passes_live  ...  npxg_xa_per90  gca_shots  \\\n",
              "815    15     11  5.5  11.3                8  ...           0.52          2   \n",
              "276     3      1  0.2   0.6                2  ...           0.23          0   \n",
              "975     8      3  2.8   5.6                5  ...           0.35          1   \n",
              "2165    0      0  0.4   0.1                0  ...           0.51          0   \n",
              "550     0      0  0.3   0.0                0  ...           0.28          0   \n",
              "\n",
              "      xg_xa_per90  tackles_won  passes_oob  passes_switches  blocks  \\\n",
              "815          0.57           30          24               27      27   \n",
              "276          0.23            3           5                9       5   \n",
              "975          0.43           17          14               18      12   \n",
              "2165         0.51            1           0                0       1   \n",
              "550          0.28            0           0                0       0   \n",
              "\n",
              "      passes_offsides  passes_other_body  pens_won  \n",
              "815                 4                 12         2  \n",
              "276                 0                  0         1  \n",
              "975                10                 12         0  \n",
              "2165                0                  0         0  \n",
              "550                 0                  0         0  \n",
              "\n",
              "[5 rows x 91 columns]"
            ],
            "text/html": [
              "\n",
              "  <div id=\"df-2052dc3d-1c61-49a2-9379-f307ac0acc48\">\n",
              "    <div class=\"colab-df-container\">\n",
              "      <div>\n",
              "<style scoped>\n",
              "    .dataframe tbody tr th:only-of-type {\n",
              "        vertical-align: middle;\n",
              "    }\n",
              "\n",
              "    .dataframe tbody tr th {\n",
              "        vertical-align: top;\n",
              "    }\n",
              "\n",
              "    .dataframe thead th {\n",
              "        text-align: right;\n",
              "    }\n",
              "</style>\n",
              "<table border=\"1\" class=\"dataframe\">\n",
              "  <thead>\n",
              "    <tr style=\"text-align: right;\">\n",
              "      <th></th>\n",
              "      <th>value</th>\n",
              "      <th>touches_att_pen_area</th>\n",
              "      <th>shots_on_target</th>\n",
              "      <th>npxg</th>\n",
              "      <th>touches_att_3rd</th>\n",
              "      <th>gca</th>\n",
              "      <th>goals</th>\n",
              "      <th>xa</th>\n",
              "      <th>xg</th>\n",
              "      <th>gca_passes_live</th>\n",
              "      <th>...</th>\n",
              "      <th>npxg_xa_per90</th>\n",
              "      <th>gca_shots</th>\n",
              "      <th>xg_xa_per90</th>\n",
              "      <th>tackles_won</th>\n",
              "      <th>passes_oob</th>\n",
              "      <th>passes_switches</th>\n",
              "      <th>blocks</th>\n",
              "      <th>passes_offsides</th>\n",
              "      <th>passes_other_body</th>\n",
              "      <th>pens_won</th>\n",
              "    </tr>\n",
              "  </thead>\n",
              "  <tbody>\n",
              "    <tr>\n",
              "      <th>815</th>\n",
              "      <td>48000000</td>\n",
              "      <td>173</td>\n",
              "      <td>40</td>\n",
              "      <td>9.7</td>\n",
              "      <td>686</td>\n",
              "      <td>15</td>\n",
              "      <td>11</td>\n",
              "      <td>5.5</td>\n",
              "      <td>11.3</td>\n",
              "      <td>8</td>\n",
              "      <td>...</td>\n",
              "      <td>0.52</td>\n",
              "      <td>2</td>\n",
              "      <td>0.57</td>\n",
              "      <td>30</td>\n",
              "      <td>24</td>\n",
              "      <td>27</td>\n",
              "      <td>27</td>\n",
              "      <td>4</td>\n",
              "      <td>12</td>\n",
              "      <td>2</td>\n",
              "    </tr>\n",
              "    <tr>\n",
              "      <th>276</th>\n",
              "      <td>10000000</td>\n",
              "      <td>10</td>\n",
              "      <td>1</td>\n",
              "      <td>0.6</td>\n",
              "      <td>103</td>\n",
              "      <td>3</td>\n",
              "      <td>1</td>\n",
              "      <td>0.2</td>\n",
              "      <td>0.6</td>\n",
              "      <td>2</td>\n",
              "      <td>...</td>\n",
              "      <td>0.23</td>\n",
              "      <td>0</td>\n",
              "      <td>0.23</td>\n",
              "      <td>3</td>\n",
              "      <td>5</td>\n",
              "      <td>9</td>\n",
              "      <td>5</td>\n",
              "      <td>0</td>\n",
              "      <td>0</td>\n",
              "      <td>1</td>\n",
              "    </tr>\n",
              "    <tr>\n",
              "      <th>975</th>\n",
              "      <td>3000000</td>\n",
              "      <td>68</td>\n",
              "      <td>11</td>\n",
              "      <td>4.1</td>\n",
              "      <td>424</td>\n",
              "      <td>8</td>\n",
              "      <td>3</td>\n",
              "      <td>2.8</td>\n",
              "      <td>5.6</td>\n",
              "      <td>5</td>\n",
              "      <td>...</td>\n",
              "      <td>0.35</td>\n",
              "      <td>1</td>\n",
              "      <td>0.43</td>\n",
              "      <td>17</td>\n",
              "      <td>14</td>\n",
              "      <td>18</td>\n",
              "      <td>12</td>\n",
              "      <td>10</td>\n",
              "      <td>12</td>\n",
              "      <td>0</td>\n",
              "    </tr>\n",
              "    <tr>\n",
              "      <th>2165</th>\n",
              "      <td>60000</td>\n",
              "      <td>4</td>\n",
              "      <td>1</td>\n",
              "      <td>0.1</td>\n",
              "      <td>20</td>\n",
              "      <td>0</td>\n",
              "      <td>0</td>\n",
              "      <td>0.4</td>\n",
              "      <td>0.1</td>\n",
              "      <td>0</td>\n",
              "      <td>...</td>\n",
              "      <td>0.51</td>\n",
              "      <td>0</td>\n",
              "      <td>0.51</td>\n",
              "      <td>1</td>\n",
              "      <td>0</td>\n",
              "      <td>0</td>\n",
              "      <td>1</td>\n",
              "      <td>0</td>\n",
              "      <td>0</td>\n",
              "      <td>0</td>\n",
              "    </tr>\n",
              "    <tr>\n",
              "      <th>550</th>\n",
              "      <td>65000</td>\n",
              "      <td>4</td>\n",
              "      <td>0</td>\n",
              "      <td>0.0</td>\n",
              "      <td>14</td>\n",
              "      <td>0</td>\n",
              "      <td>0</td>\n",
              "      <td>0.3</td>\n",
              "      <td>0.0</td>\n",
              "      <td>0</td>\n",
              "      <td>...</td>\n",
              "      <td>0.28</td>\n",
              "      <td>0</td>\n",
              "      <td>0.28</td>\n",
              "      <td>0</td>\n",
              "      <td>0</td>\n",
              "      <td>0</td>\n",
              "      <td>0</td>\n",
              "      <td>0</td>\n",
              "      <td>0</td>\n",
              "      <td>0</td>\n",
              "    </tr>\n",
              "  </tbody>\n",
              "</table>\n",
              "<p>5 rows × 91 columns</p>\n",
              "</div>\n",
              "      <button class=\"colab-df-convert\" onclick=\"convertToInteractive('df-2052dc3d-1c61-49a2-9379-f307ac0acc48')\"\n",
              "              title=\"Convert this dataframe to an interactive table.\"\n",
              "              style=\"display:none;\">\n",
              "        \n",
              "  <svg xmlns=\"http://www.w3.org/2000/svg\" height=\"24px\"viewBox=\"0 0 24 24\"\n",
              "       width=\"24px\">\n",
              "    <path d=\"M0 0h24v24H0V0z\" fill=\"none\"/>\n",
              "    <path d=\"M18.56 5.44l.94 2.06.94-2.06 2.06-.94-2.06-.94-.94-2.06-.94 2.06-2.06.94zm-11 1L8.5 8.5l.94-2.06 2.06-.94-2.06-.94L8.5 2.5l-.94 2.06-2.06.94zm10 10l.94 2.06.94-2.06 2.06-.94-2.06-.94-.94-2.06-.94 2.06-2.06.94z\"/><path d=\"M17.41 7.96l-1.37-1.37c-.4-.4-.92-.59-1.43-.59-.52 0-1.04.2-1.43.59L10.3 9.45l-7.72 7.72c-.78.78-.78 2.05 0 2.83L4 21.41c.39.39.9.59 1.41.59.51 0 1.02-.2 1.41-.59l7.78-7.78 2.81-2.81c.8-.78.8-2.07 0-2.86zM5.41 20L4 18.59l7.72-7.72 1.47 1.35L5.41 20z\"/>\n",
              "  </svg>\n",
              "      </button>\n",
              "      \n",
              "  <style>\n",
              "    .colab-df-container {\n",
              "      display:flex;\n",
              "      flex-wrap:wrap;\n",
              "      gap: 12px;\n",
              "    }\n",
              "\n",
              "    .colab-df-convert {\n",
              "      background-color: #E8F0FE;\n",
              "      border: none;\n",
              "      border-radius: 50%;\n",
              "      cursor: pointer;\n",
              "      display: none;\n",
              "      fill: #1967D2;\n",
              "      height: 32px;\n",
              "      padding: 0 0 0 0;\n",
              "      width: 32px;\n",
              "    }\n",
              "\n",
              "    .colab-df-convert:hover {\n",
              "      background-color: #E2EBFA;\n",
              "      box-shadow: 0px 1px 2px rgba(60, 64, 67, 0.3), 0px 1px 3px 1px rgba(60, 64, 67, 0.15);\n",
              "      fill: #174EA6;\n",
              "    }\n",
              "\n",
              "    [theme=dark] .colab-df-convert {\n",
              "      background-color: #3B4455;\n",
              "      fill: #D2E3FC;\n",
              "    }\n",
              "\n",
              "    [theme=dark] .colab-df-convert:hover {\n",
              "      background-color: #434B5C;\n",
              "      box-shadow: 0px 1px 3px 1px rgba(0, 0, 0, 0.15);\n",
              "      filter: drop-shadow(0px 1px 2px rgba(0, 0, 0, 0.3));\n",
              "      fill: #FFFFFF;\n",
              "    }\n",
              "  </style>\n",
              "\n",
              "      <script>\n",
              "        const buttonEl =\n",
              "          document.querySelector('#df-2052dc3d-1c61-49a2-9379-f307ac0acc48 button.colab-df-convert');\n",
              "        buttonEl.style.display =\n",
              "          google.colab.kernel.accessAllowed ? 'block' : 'none';\n",
              "\n",
              "        async function convertToInteractive(key) {\n",
              "          const element = document.querySelector('#df-2052dc3d-1c61-49a2-9379-f307ac0acc48');\n",
              "          const dataTable =\n",
              "            await google.colab.kernel.invokeFunction('convertToInteractive',\n",
              "                                                     [key], {});\n",
              "          if (!dataTable) return;\n",
              "\n",
              "          const docLinkHtml = 'Like what you see? Visit the ' +\n",
              "            '<a target=\"_blank\" href=https://colab.research.google.com/notebooks/data_table.ipynb>data table notebook</a>'\n",
              "            + ' to learn more about interactive tables.';\n",
              "          element.innerHTML = '';\n",
              "          dataTable['output_type'] = 'display_data';\n",
              "          await google.colab.output.renderOutput(dataTable, element);\n",
              "          const docLink = document.createElement('div');\n",
              "          docLink.innerHTML = docLinkHtml;\n",
              "          element.appendChild(docLink);\n",
              "        }\n",
              "      </script>\n",
              "    </div>\n",
              "  </div>\n",
              "  "
            ]
          },
          "metadata": {},
          "execution_count": 25
        }
      ]
    },
    {
      "cell_type": "markdown",
      "source": [
        "# Profiler"
      ],
      "metadata": {
        "id": "8mTEjBlnqG4q"
      }
    },
    {
      "cell_type": "code",
      "source": [
        "# prof = ProfileReport(df_2.reset_index(drop=True), infer_dtypes=False) #domyslnie sam interpretuje typy (categoryczne) infer_dtypes=False zmieni na numeryczny"
      ],
      "metadata": {
        "id": "R0mT7NliOl53"
      },
      "execution_count": null,
      "outputs": []
    },
    {
      "cell_type": "code",
      "source": [
        "# prof"
      ],
      "metadata": {
        "id": "ZmIiPyRjOsHv"
      },
      "execution_count": null,
      "outputs": []
    },
    {
      "cell_type": "markdown",
      "source": [
        "# Podział na zbiory treningowy/testowy"
      ],
      "metadata": {
        "id": "5qetqJpqopEp"
      }
    },
    {
      "cell_type": "code",
      "source": [
        "from sklearn.model_selection import train_test_split"
      ],
      "metadata": {
        "id": "FjgFr6NKo008"
      },
      "execution_count": null,
      "outputs": []
    },
    {
      "cell_type": "code",
      "source": [
        "df_y = df.pop('value')\n",
        "df_x = df"
      ],
      "metadata": {
        "id": "ad3BnoBapfhh"
      },
      "execution_count": null,
      "outputs": []
    },
    {
      "cell_type": "code",
      "source": [
        "X_train, X_test, y_train, y_test = train_test_split(df_x, df_y, test_size=0.2, random_state=0)"
      ],
      "metadata": {
        "id": "-_jVUFPOpRkb"
      },
      "execution_count": null,
      "outputs": []
    },
    {
      "cell_type": "code",
      "source": [
        "X_train.sample(5)"
      ],
      "metadata": {
        "colab": {
          "base_uri": "https://localhost:8080/",
          "height": 299
        },
        "id": "sC78YQo2lsys",
        "outputId": "e0a29122-7596-40a4-99e3-53261167871d"
      },
      "execution_count": null,
      "outputs": [
        {
          "output_type": "execute_result",
          "data": {
            "text/plain": [
              "      touches_att_pen_area  shots_on_target  npxg  touches_att_3rd  gca  \\\n",
              "904                     24                3   1.0               80    2   \n",
              "528                      0                0   0.1                7    0   \n",
              "644                     72               21   3.6              613    9   \n",
              "251                    110               12   3.7              503    3   \n",
              "2424                    16                4   0.7              130    2   \n",
              "\n",
              "      goals   xa   xg  gca_passes_live  passes_completed_short  ...  \\\n",
              "904       1  0.4  1.0                1                      27  ...   \n",
              "528       0  0.0  0.1                0                      10  ...   \n",
              "644       6  3.9  3.6                3                     292  ...   \n",
              "251       7  1.8  3.7                1                     322  ...   \n",
              "2424      0  0.7  0.7                2                      81  ...   \n",
              "\n",
              "      npxg_xa_per90  gca_shots  xg_xa_per90  tackles_won  passes_oob  \\\n",
              "904            0.33          0         0.33            2           4   \n",
              "528            0.18          0         0.18            0           0   \n",
              "644            0.30          0         0.30           27          25   \n",
              "251            0.48          0         0.48           10           8   \n",
              "2424           0.20          0         0.20            4           8   \n",
              "\n",
              "      passes_switches  blocks  passes_offsides  passes_other_body  pens_won  \n",
              "904                 0       4                1                  6         1  \n",
              "528                 0       0                0                  1         0  \n",
              "644                47      41                3                 10         1  \n",
              "251                 8      16                3                  6         0  \n",
              "2424                3       8                2                  4         0  \n",
              "\n",
              "[5 rows x 90 columns]"
            ],
            "text/html": [
              "\n",
              "  <div id=\"df-2cdfd1a5-3543-4574-a970-5490ba3602f9\">\n",
              "    <div class=\"colab-df-container\">\n",
              "      <div>\n",
              "<style scoped>\n",
              "    .dataframe tbody tr th:only-of-type {\n",
              "        vertical-align: middle;\n",
              "    }\n",
              "\n",
              "    .dataframe tbody tr th {\n",
              "        vertical-align: top;\n",
              "    }\n",
              "\n",
              "    .dataframe thead th {\n",
              "        text-align: right;\n",
              "    }\n",
              "</style>\n",
              "<table border=\"1\" class=\"dataframe\">\n",
              "  <thead>\n",
              "    <tr style=\"text-align: right;\">\n",
              "      <th></th>\n",
              "      <th>touches_att_pen_area</th>\n",
              "      <th>shots_on_target</th>\n",
              "      <th>npxg</th>\n",
              "      <th>touches_att_3rd</th>\n",
              "      <th>gca</th>\n",
              "      <th>goals</th>\n",
              "      <th>xa</th>\n",
              "      <th>xg</th>\n",
              "      <th>gca_passes_live</th>\n",
              "      <th>passes_completed_short</th>\n",
              "      <th>...</th>\n",
              "      <th>npxg_xa_per90</th>\n",
              "      <th>gca_shots</th>\n",
              "      <th>xg_xa_per90</th>\n",
              "      <th>tackles_won</th>\n",
              "      <th>passes_oob</th>\n",
              "      <th>passes_switches</th>\n",
              "      <th>blocks</th>\n",
              "      <th>passes_offsides</th>\n",
              "      <th>passes_other_body</th>\n",
              "      <th>pens_won</th>\n",
              "    </tr>\n",
              "  </thead>\n",
              "  <tbody>\n",
              "    <tr>\n",
              "      <th>904</th>\n",
              "      <td>24</td>\n",
              "      <td>3</td>\n",
              "      <td>1.0</td>\n",
              "      <td>80</td>\n",
              "      <td>2</td>\n",
              "      <td>1</td>\n",
              "      <td>0.4</td>\n",
              "      <td>1.0</td>\n",
              "      <td>1</td>\n",
              "      <td>27</td>\n",
              "      <td>...</td>\n",
              "      <td>0.33</td>\n",
              "      <td>0</td>\n",
              "      <td>0.33</td>\n",
              "      <td>2</td>\n",
              "      <td>4</td>\n",
              "      <td>0</td>\n",
              "      <td>4</td>\n",
              "      <td>1</td>\n",
              "      <td>6</td>\n",
              "      <td>1</td>\n",
              "    </tr>\n",
              "    <tr>\n",
              "      <th>528</th>\n",
              "      <td>0</td>\n",
              "      <td>0</td>\n",
              "      <td>0.1</td>\n",
              "      <td>7</td>\n",
              "      <td>0</td>\n",
              "      <td>0</td>\n",
              "      <td>0.0</td>\n",
              "      <td>0.1</td>\n",
              "      <td>0</td>\n",
              "      <td>10</td>\n",
              "      <td>...</td>\n",
              "      <td>0.18</td>\n",
              "      <td>0</td>\n",
              "      <td>0.18</td>\n",
              "      <td>0</td>\n",
              "      <td>0</td>\n",
              "      <td>0</td>\n",
              "      <td>0</td>\n",
              "      <td>0</td>\n",
              "      <td>1</td>\n",
              "      <td>0</td>\n",
              "    </tr>\n",
              "    <tr>\n",
              "      <th>644</th>\n",
              "      <td>72</td>\n",
              "      <td>21</td>\n",
              "      <td>3.6</td>\n",
              "      <td>613</td>\n",
              "      <td>9</td>\n",
              "      <td>6</td>\n",
              "      <td>3.9</td>\n",
              "      <td>3.6</td>\n",
              "      <td>3</td>\n",
              "      <td>292</td>\n",
              "      <td>...</td>\n",
              "      <td>0.30</td>\n",
              "      <td>0</td>\n",
              "      <td>0.30</td>\n",
              "      <td>27</td>\n",
              "      <td>25</td>\n",
              "      <td>47</td>\n",
              "      <td>41</td>\n",
              "      <td>3</td>\n",
              "      <td>10</td>\n",
              "      <td>1</td>\n",
              "    </tr>\n",
              "    <tr>\n",
              "      <th>251</th>\n",
              "      <td>110</td>\n",
              "      <td>12</td>\n",
              "      <td>3.7</td>\n",
              "      <td>503</td>\n",
              "      <td>3</td>\n",
              "      <td>7</td>\n",
              "      <td>1.8</td>\n",
              "      <td>3.7</td>\n",
              "      <td>1</td>\n",
              "      <td>322</td>\n",
              "      <td>...</td>\n",
              "      <td>0.48</td>\n",
              "      <td>0</td>\n",
              "      <td>0.48</td>\n",
              "      <td>10</td>\n",
              "      <td>8</td>\n",
              "      <td>8</td>\n",
              "      <td>16</td>\n",
              "      <td>3</td>\n",
              "      <td>6</td>\n",
              "      <td>0</td>\n",
              "    </tr>\n",
              "    <tr>\n",
              "      <th>2424</th>\n",
              "      <td>16</td>\n",
              "      <td>4</td>\n",
              "      <td>0.7</td>\n",
              "      <td>130</td>\n",
              "      <td>2</td>\n",
              "      <td>0</td>\n",
              "      <td>0.7</td>\n",
              "      <td>0.7</td>\n",
              "      <td>2</td>\n",
              "      <td>81</td>\n",
              "      <td>...</td>\n",
              "      <td>0.20</td>\n",
              "      <td>0</td>\n",
              "      <td>0.20</td>\n",
              "      <td>4</td>\n",
              "      <td>8</td>\n",
              "      <td>3</td>\n",
              "      <td>8</td>\n",
              "      <td>2</td>\n",
              "      <td>4</td>\n",
              "      <td>0</td>\n",
              "    </tr>\n",
              "  </tbody>\n",
              "</table>\n",
              "<p>5 rows × 90 columns</p>\n",
              "</div>\n",
              "      <button class=\"colab-df-convert\" onclick=\"convertToInteractive('df-2cdfd1a5-3543-4574-a970-5490ba3602f9')\"\n",
              "              title=\"Convert this dataframe to an interactive table.\"\n",
              "              style=\"display:none;\">\n",
              "        \n",
              "  <svg xmlns=\"http://www.w3.org/2000/svg\" height=\"24px\"viewBox=\"0 0 24 24\"\n",
              "       width=\"24px\">\n",
              "    <path d=\"M0 0h24v24H0V0z\" fill=\"none\"/>\n",
              "    <path d=\"M18.56 5.44l.94 2.06.94-2.06 2.06-.94-2.06-.94-.94-2.06-.94 2.06-2.06.94zm-11 1L8.5 8.5l.94-2.06 2.06-.94-2.06-.94L8.5 2.5l-.94 2.06-2.06.94zm10 10l.94 2.06.94-2.06 2.06-.94-2.06-.94-.94-2.06-.94 2.06-2.06.94z\"/><path d=\"M17.41 7.96l-1.37-1.37c-.4-.4-.92-.59-1.43-.59-.52 0-1.04.2-1.43.59L10.3 9.45l-7.72 7.72c-.78.78-.78 2.05 0 2.83L4 21.41c.39.39.9.59 1.41.59.51 0 1.02-.2 1.41-.59l7.78-7.78 2.81-2.81c.8-.78.8-2.07 0-2.86zM5.41 20L4 18.59l7.72-7.72 1.47 1.35L5.41 20z\"/>\n",
              "  </svg>\n",
              "      </button>\n",
              "      \n",
              "  <style>\n",
              "    .colab-df-container {\n",
              "      display:flex;\n",
              "      flex-wrap:wrap;\n",
              "      gap: 12px;\n",
              "    }\n",
              "\n",
              "    .colab-df-convert {\n",
              "      background-color: #E8F0FE;\n",
              "      border: none;\n",
              "      border-radius: 50%;\n",
              "      cursor: pointer;\n",
              "      display: none;\n",
              "      fill: #1967D2;\n",
              "      height: 32px;\n",
              "      padding: 0 0 0 0;\n",
              "      width: 32px;\n",
              "    }\n",
              "\n",
              "    .colab-df-convert:hover {\n",
              "      background-color: #E2EBFA;\n",
              "      box-shadow: 0px 1px 2px rgba(60, 64, 67, 0.3), 0px 1px 3px 1px rgba(60, 64, 67, 0.15);\n",
              "      fill: #174EA6;\n",
              "    }\n",
              "\n",
              "    [theme=dark] .colab-df-convert {\n",
              "      background-color: #3B4455;\n",
              "      fill: #D2E3FC;\n",
              "    }\n",
              "\n",
              "    [theme=dark] .colab-df-convert:hover {\n",
              "      background-color: #434B5C;\n",
              "      box-shadow: 0px 1px 3px 1px rgba(0, 0, 0, 0.15);\n",
              "      filter: drop-shadow(0px 1px 2px rgba(0, 0, 0, 0.3));\n",
              "      fill: #FFFFFF;\n",
              "    }\n",
              "  </style>\n",
              "\n",
              "      <script>\n",
              "        const buttonEl =\n",
              "          document.querySelector('#df-2cdfd1a5-3543-4574-a970-5490ba3602f9 button.colab-df-convert');\n",
              "        buttonEl.style.display =\n",
              "          google.colab.kernel.accessAllowed ? 'block' : 'none';\n",
              "\n",
              "        async function convertToInteractive(key) {\n",
              "          const element = document.querySelector('#df-2cdfd1a5-3543-4574-a970-5490ba3602f9');\n",
              "          const dataTable =\n",
              "            await google.colab.kernel.invokeFunction('convertToInteractive',\n",
              "                                                     [key], {});\n",
              "          if (!dataTable) return;\n",
              "\n",
              "          const docLinkHtml = 'Like what you see? Visit the ' +\n",
              "            '<a target=\"_blank\" href=https://colab.research.google.com/notebooks/data_table.ipynb>data table notebook</a>'\n",
              "            + ' to learn more about interactive tables.';\n",
              "          element.innerHTML = '';\n",
              "          dataTable['output_type'] = 'display_data';\n",
              "          await google.colab.output.renderOutput(dataTable, element);\n",
              "          const docLink = document.createElement('div');\n",
              "          docLink.innerHTML = docLinkHtml;\n",
              "          element.appendChild(docLink);\n",
              "        }\n",
              "      </script>\n",
              "    </div>\n",
              "  </div>\n",
              "  "
            ]
          },
          "metadata": {},
          "execution_count": 31
        }
      ]
    },
    {
      "cell_type": "markdown",
      "source": [
        "# StandardScaler"
      ],
      "metadata": {
        "id": "wvXTbQgpglCE"
      }
    },
    {
      "cell_type": "code",
      "source": [
        "from sklearn.preprocessing import StandardScaler\n",
        "\n",
        "scal = StandardScaler()\n",
        "train_s = scal.fit_transform(X_train)\n",
        "test_s = scal.transform(X_test)\n",
        "\n",
        "X_train_s = pd.DataFrame(train_s, index=X_train.index, columns=X_train.columns)\n",
        "X_test_s = pd.DataFrame(test_s, index=X_test.index, columns=X_test.columns)\n",
        "\n"
      ],
      "metadata": {
        "id": "-QOOxlrzgtUG"
      },
      "execution_count": null,
      "outputs": []
    },
    {
      "cell_type": "code",
      "source": [
        "X_train_s"
      ],
      "metadata": {
        "colab": {
          "base_uri": "https://localhost:8080/",
          "height": 488
        },
        "id": "ysAcPOvdvlEO",
        "outputId": "ef9e37d4-a071-44c4-c994-c18d8384da20"
      },
      "execution_count": null,
      "outputs": [
        {
          "output_type": "execute_result",
          "data": {
            "text/plain": [
              "      touches_att_pen_area  shots_on_target      npxg  touches_att_3rd  \\\n",
              "562              -0.543202         0.316637 -0.453620        -0.156732   \n",
              "161              -1.069643        -0.938398 -0.964285        -1.142101   \n",
              "1020             -0.524400        -0.938398 -0.907544        -0.846490   \n",
              "2024             -0.693614        -0.669462 -0.623842        -0.284009   \n",
              "1021             -0.449194        -1.028043 -0.141548        -0.534457   \n",
              "...                    ...              ...       ...              ...   \n",
              "2490              0.829306         1.033800  0.936522         0.401643   \n",
              "622              -1.126048        -1.028043 -0.992655        -1.174946   \n",
              "2026             -1.013239        -1.028043 -0.935914        -1.129784   \n",
              "1813             -0.900430        -0.848752 -0.879174        -1.010718   \n",
              "2195             -0.373988        -0.131590 -0.538731         0.303106   \n",
              "\n",
              "           gca     goals        xa        xg  gca_passes_live  \\\n",
              "562  -0.548349 -0.421336 -0.798261 -0.485154        -0.570778   \n",
              "161  -0.923475 -0.624247 -0.896689 -0.912386        -0.853573   \n",
              "1020 -0.548349 -0.827159 -0.306120 -0.864915        -0.287984   \n",
              "2024 -0.173223 -0.421336  0.038378 -0.627564         0.277606   \n",
              "1021 -0.360786 -0.015513 -0.650619 -0.224068        -0.287984   \n",
              "...        ...       ...       ...       ...              ...   \n",
              "2490  0.389466  0.390310  0.382876  1.223773         0.277606   \n",
              "622  -0.923475 -0.827159 -0.945903 -0.936121        -0.853573   \n",
              "2026 -0.923475 -0.827159 -0.945903 -0.888650        -0.853573   \n",
              "1813 -0.548349 -0.624247 -0.847475 -0.675035        -0.287984   \n",
              "2195  0.389466 -0.218425  0.087592 -0.556359         0.560400   \n",
              "\n",
              "      passes_completed_short  ...  npxg_xa_per90  gca_shots  xg_xa_per90  \\\n",
              "562                 0.061778  ...      -0.572865  -0.565377    -0.628291   \n",
              "161                -1.069446  ...       0.500846  -0.565377     0.403263   \n",
              "1020               -0.735221  ...      -0.107590  -0.565377    -0.181284   \n",
              "2024               -0.124617  ...      -0.179171  -0.565377    -0.250055   \n",
              "1021               -1.075874  ...       0.107152  -0.565377     0.025026   \n",
              "...                      ...  ...            ...        ...          ...   \n",
              "2490                0.511697  ...      -0.071800  -0.565377     0.128182   \n",
              "622                -1.056592  ...      -1.396044  -0.565377    -1.419149   \n",
              "2026               -1.030882  ...      -0.644446  -0.565377    -0.697061   \n",
              "1813               -0.883052  ...      -0.680236  -0.565377     0.265722   \n",
              "2195                1.135155  ...      -0.644446  -0.565377    -0.697061   \n",
              "\n",
              "      tackles_won  passes_oob  passes_switches    blocks  passes_offsides  \\\n",
              "562      0.011610   -0.052766         0.234462  0.211685        -0.354859   \n",
              "161     -0.978737   -1.114578        -0.763910 -1.165088        -0.795235   \n",
              "1020    -0.648622   -0.849125        -0.705182 -0.782651        -0.795235   \n",
              "2024     0.451764   -0.052766        -0.352816 -0.400214         0.525892   \n",
              "1021    -0.978737   -0.583672        -0.587727 -1.165088        -0.795235   \n",
              "...           ...         ...              ...       ...              ...   \n",
              "2490     0.231687    1.141773        -0.294088  0.670610         0.085516   \n",
              "622     -1.088776   -1.114578        -0.705182 -0.629676        -0.795235   \n",
              "2026    -0.868699   -0.981852        -0.822638 -1.012113        -0.795235   \n",
              "1813    -1.088776   -1.114578        -0.763910 -0.935626         0.085516   \n",
              "2195     2.322419    1.539953         3.347033  0.823585         0.525892   \n",
              "\n",
              "      passes_other_body  pens_won  \n",
              "562            0.450019 -0.477675  \n",
              "161           -0.863876 -0.477675  \n",
              "1020          -0.535402 -0.477675  \n",
              "2024          -0.206928 -0.477675  \n",
              "1021           0.285782  0.813233  \n",
              "...                 ...       ...  \n",
              "2490           1.106966  3.395048  \n",
              "622           -0.863876 -0.477675  \n",
              "2026          -0.699639 -0.477675  \n",
              "1813          -0.699639 -0.477675  \n",
              "2195           0.778493 -0.477675  \n",
              "\n",
              "[654 rows x 90 columns]"
            ],
            "text/html": [
              "\n",
              "  <div id=\"df-4db12b99-2860-457f-8ce0-b4be38e0374a\">\n",
              "    <div class=\"colab-df-container\">\n",
              "      <div>\n",
              "<style scoped>\n",
              "    .dataframe tbody tr th:only-of-type {\n",
              "        vertical-align: middle;\n",
              "    }\n",
              "\n",
              "    .dataframe tbody tr th {\n",
              "        vertical-align: top;\n",
              "    }\n",
              "\n",
              "    .dataframe thead th {\n",
              "        text-align: right;\n",
              "    }\n",
              "</style>\n",
              "<table border=\"1\" class=\"dataframe\">\n",
              "  <thead>\n",
              "    <tr style=\"text-align: right;\">\n",
              "      <th></th>\n",
              "      <th>touches_att_pen_area</th>\n",
              "      <th>shots_on_target</th>\n",
              "      <th>npxg</th>\n",
              "      <th>touches_att_3rd</th>\n",
              "      <th>gca</th>\n",
              "      <th>goals</th>\n",
              "      <th>xa</th>\n",
              "      <th>xg</th>\n",
              "      <th>gca_passes_live</th>\n",
              "      <th>passes_completed_short</th>\n",
              "      <th>...</th>\n",
              "      <th>npxg_xa_per90</th>\n",
              "      <th>gca_shots</th>\n",
              "      <th>xg_xa_per90</th>\n",
              "      <th>tackles_won</th>\n",
              "      <th>passes_oob</th>\n",
              "      <th>passes_switches</th>\n",
              "      <th>blocks</th>\n",
              "      <th>passes_offsides</th>\n",
              "      <th>passes_other_body</th>\n",
              "      <th>pens_won</th>\n",
              "    </tr>\n",
              "  </thead>\n",
              "  <tbody>\n",
              "    <tr>\n",
              "      <th>562</th>\n",
              "      <td>-0.543202</td>\n",
              "      <td>0.316637</td>\n",
              "      <td>-0.453620</td>\n",
              "      <td>-0.156732</td>\n",
              "      <td>-0.548349</td>\n",
              "      <td>-0.421336</td>\n",
              "      <td>-0.798261</td>\n",
              "      <td>-0.485154</td>\n",
              "      <td>-0.570778</td>\n",
              "      <td>0.061778</td>\n",
              "      <td>...</td>\n",
              "      <td>-0.572865</td>\n",
              "      <td>-0.565377</td>\n",
              "      <td>-0.628291</td>\n",
              "      <td>0.011610</td>\n",
              "      <td>-0.052766</td>\n",
              "      <td>0.234462</td>\n",
              "      <td>0.211685</td>\n",
              "      <td>-0.354859</td>\n",
              "      <td>0.450019</td>\n",
              "      <td>-0.477675</td>\n",
              "    </tr>\n",
              "    <tr>\n",
              "      <th>161</th>\n",
              "      <td>-1.069643</td>\n",
              "      <td>-0.938398</td>\n",
              "      <td>-0.964285</td>\n",
              "      <td>-1.142101</td>\n",
              "      <td>-0.923475</td>\n",
              "      <td>-0.624247</td>\n",
              "      <td>-0.896689</td>\n",
              "      <td>-0.912386</td>\n",
              "      <td>-0.853573</td>\n",
              "      <td>-1.069446</td>\n",
              "      <td>...</td>\n",
              "      <td>0.500846</td>\n",
              "      <td>-0.565377</td>\n",
              "      <td>0.403263</td>\n",
              "      <td>-0.978737</td>\n",
              "      <td>-1.114578</td>\n",
              "      <td>-0.763910</td>\n",
              "      <td>-1.165088</td>\n",
              "      <td>-0.795235</td>\n",
              "      <td>-0.863876</td>\n",
              "      <td>-0.477675</td>\n",
              "    </tr>\n",
              "    <tr>\n",
              "      <th>1020</th>\n",
              "      <td>-0.524400</td>\n",
              "      <td>-0.938398</td>\n",
              "      <td>-0.907544</td>\n",
              "      <td>-0.846490</td>\n",
              "      <td>-0.548349</td>\n",
              "      <td>-0.827159</td>\n",
              "      <td>-0.306120</td>\n",
              "      <td>-0.864915</td>\n",
              "      <td>-0.287984</td>\n",
              "      <td>-0.735221</td>\n",
              "      <td>...</td>\n",
              "      <td>-0.107590</td>\n",
              "      <td>-0.565377</td>\n",
              "      <td>-0.181284</td>\n",
              "      <td>-0.648622</td>\n",
              "      <td>-0.849125</td>\n",
              "      <td>-0.705182</td>\n",
              "      <td>-0.782651</td>\n",
              "      <td>-0.795235</td>\n",
              "      <td>-0.535402</td>\n",
              "      <td>-0.477675</td>\n",
              "    </tr>\n",
              "    <tr>\n",
              "      <th>2024</th>\n",
              "      <td>-0.693614</td>\n",
              "      <td>-0.669462</td>\n",
              "      <td>-0.623842</td>\n",
              "      <td>-0.284009</td>\n",
              "      <td>-0.173223</td>\n",
              "      <td>-0.421336</td>\n",
              "      <td>0.038378</td>\n",
              "      <td>-0.627564</td>\n",
              "      <td>0.277606</td>\n",
              "      <td>-0.124617</td>\n",
              "      <td>...</td>\n",
              "      <td>-0.179171</td>\n",
              "      <td>-0.565377</td>\n",
              "      <td>-0.250055</td>\n",
              "      <td>0.451764</td>\n",
              "      <td>-0.052766</td>\n",
              "      <td>-0.352816</td>\n",
              "      <td>-0.400214</td>\n",
              "      <td>0.525892</td>\n",
              "      <td>-0.206928</td>\n",
              "      <td>-0.477675</td>\n",
              "    </tr>\n",
              "    <tr>\n",
              "      <th>1021</th>\n",
              "      <td>-0.449194</td>\n",
              "      <td>-1.028043</td>\n",
              "      <td>-0.141548</td>\n",
              "      <td>-0.534457</td>\n",
              "      <td>-0.360786</td>\n",
              "      <td>-0.015513</td>\n",
              "      <td>-0.650619</td>\n",
              "      <td>-0.224068</td>\n",
              "      <td>-0.287984</td>\n",
              "      <td>-1.075874</td>\n",
              "      <td>...</td>\n",
              "      <td>0.107152</td>\n",
              "      <td>-0.565377</td>\n",
              "      <td>0.025026</td>\n",
              "      <td>-0.978737</td>\n",
              "      <td>-0.583672</td>\n",
              "      <td>-0.587727</td>\n",
              "      <td>-1.165088</td>\n",
              "      <td>-0.795235</td>\n",
              "      <td>0.285782</td>\n",
              "      <td>0.813233</td>\n",
              "    </tr>\n",
              "    <tr>\n",
              "      <th>...</th>\n",
              "      <td>...</td>\n",
              "      <td>...</td>\n",
              "      <td>...</td>\n",
              "      <td>...</td>\n",
              "      <td>...</td>\n",
              "      <td>...</td>\n",
              "      <td>...</td>\n",
              "      <td>...</td>\n",
              "      <td>...</td>\n",
              "      <td>...</td>\n",
              "      <td>...</td>\n",
              "      <td>...</td>\n",
              "      <td>...</td>\n",
              "      <td>...</td>\n",
              "      <td>...</td>\n",
              "      <td>...</td>\n",
              "      <td>...</td>\n",
              "      <td>...</td>\n",
              "      <td>...</td>\n",
              "      <td>...</td>\n",
              "      <td>...</td>\n",
              "    </tr>\n",
              "    <tr>\n",
              "      <th>2490</th>\n",
              "      <td>0.829306</td>\n",
              "      <td>1.033800</td>\n",
              "      <td>0.936522</td>\n",
              "      <td>0.401643</td>\n",
              "      <td>0.389466</td>\n",
              "      <td>0.390310</td>\n",
              "      <td>0.382876</td>\n",
              "      <td>1.223773</td>\n",
              "      <td>0.277606</td>\n",
              "      <td>0.511697</td>\n",
              "      <td>...</td>\n",
              "      <td>-0.071800</td>\n",
              "      <td>-0.565377</td>\n",
              "      <td>0.128182</td>\n",
              "      <td>0.231687</td>\n",
              "      <td>1.141773</td>\n",
              "      <td>-0.294088</td>\n",
              "      <td>0.670610</td>\n",
              "      <td>0.085516</td>\n",
              "      <td>1.106966</td>\n",
              "      <td>3.395048</td>\n",
              "    </tr>\n",
              "    <tr>\n",
              "      <th>622</th>\n",
              "      <td>-1.126048</td>\n",
              "      <td>-1.028043</td>\n",
              "      <td>-0.992655</td>\n",
              "      <td>-1.174946</td>\n",
              "      <td>-0.923475</td>\n",
              "      <td>-0.827159</td>\n",
              "      <td>-0.945903</td>\n",
              "      <td>-0.936121</td>\n",
              "      <td>-0.853573</td>\n",
              "      <td>-1.056592</td>\n",
              "      <td>...</td>\n",
              "      <td>-1.396044</td>\n",
              "      <td>-0.565377</td>\n",
              "      <td>-1.419149</td>\n",
              "      <td>-1.088776</td>\n",
              "      <td>-1.114578</td>\n",
              "      <td>-0.705182</td>\n",
              "      <td>-0.629676</td>\n",
              "      <td>-0.795235</td>\n",
              "      <td>-0.863876</td>\n",
              "      <td>-0.477675</td>\n",
              "    </tr>\n",
              "    <tr>\n",
              "      <th>2026</th>\n",
              "      <td>-1.013239</td>\n",
              "      <td>-1.028043</td>\n",
              "      <td>-0.935914</td>\n",
              "      <td>-1.129784</td>\n",
              "      <td>-0.923475</td>\n",
              "      <td>-0.827159</td>\n",
              "      <td>-0.945903</td>\n",
              "      <td>-0.888650</td>\n",
              "      <td>-0.853573</td>\n",
              "      <td>-1.030882</td>\n",
              "      <td>...</td>\n",
              "      <td>-0.644446</td>\n",
              "      <td>-0.565377</td>\n",
              "      <td>-0.697061</td>\n",
              "      <td>-0.868699</td>\n",
              "      <td>-0.981852</td>\n",
              "      <td>-0.822638</td>\n",
              "      <td>-1.012113</td>\n",
              "      <td>-0.795235</td>\n",
              "      <td>-0.699639</td>\n",
              "      <td>-0.477675</td>\n",
              "    </tr>\n",
              "    <tr>\n",
              "      <th>1813</th>\n",
              "      <td>-0.900430</td>\n",
              "      <td>-0.848752</td>\n",
              "      <td>-0.879174</td>\n",
              "      <td>-1.010718</td>\n",
              "      <td>-0.548349</td>\n",
              "      <td>-0.624247</td>\n",
              "      <td>-0.847475</td>\n",
              "      <td>-0.675035</td>\n",
              "      <td>-0.287984</td>\n",
              "      <td>-0.883052</td>\n",
              "      <td>...</td>\n",
              "      <td>-0.680236</td>\n",
              "      <td>-0.565377</td>\n",
              "      <td>0.265722</td>\n",
              "      <td>-1.088776</td>\n",
              "      <td>-1.114578</td>\n",
              "      <td>-0.763910</td>\n",
              "      <td>-0.935626</td>\n",
              "      <td>0.085516</td>\n",
              "      <td>-0.699639</td>\n",
              "      <td>-0.477675</td>\n",
              "    </tr>\n",
              "    <tr>\n",
              "      <th>2195</th>\n",
              "      <td>-0.373988</td>\n",
              "      <td>-0.131590</td>\n",
              "      <td>-0.538731</td>\n",
              "      <td>0.303106</td>\n",
              "      <td>0.389466</td>\n",
              "      <td>-0.218425</td>\n",
              "      <td>0.087592</td>\n",
              "      <td>-0.556359</td>\n",
              "      <td>0.560400</td>\n",
              "      <td>1.135155</td>\n",
              "      <td>...</td>\n",
              "      <td>-0.644446</td>\n",
              "      <td>-0.565377</td>\n",
              "      <td>-0.697061</td>\n",
              "      <td>2.322419</td>\n",
              "      <td>1.539953</td>\n",
              "      <td>3.347033</td>\n",
              "      <td>0.823585</td>\n",
              "      <td>0.525892</td>\n",
              "      <td>0.778493</td>\n",
              "      <td>-0.477675</td>\n",
              "    </tr>\n",
              "  </tbody>\n",
              "</table>\n",
              "<p>654 rows × 90 columns</p>\n",
              "</div>\n",
              "      <button class=\"colab-df-convert\" onclick=\"convertToInteractive('df-4db12b99-2860-457f-8ce0-b4be38e0374a')\"\n",
              "              title=\"Convert this dataframe to an interactive table.\"\n",
              "              style=\"display:none;\">\n",
              "        \n",
              "  <svg xmlns=\"http://www.w3.org/2000/svg\" height=\"24px\"viewBox=\"0 0 24 24\"\n",
              "       width=\"24px\">\n",
              "    <path d=\"M0 0h24v24H0V0z\" fill=\"none\"/>\n",
              "    <path d=\"M18.56 5.44l.94 2.06.94-2.06 2.06-.94-2.06-.94-.94-2.06-.94 2.06-2.06.94zm-11 1L8.5 8.5l.94-2.06 2.06-.94-2.06-.94L8.5 2.5l-.94 2.06-2.06.94zm10 10l.94 2.06.94-2.06 2.06-.94-2.06-.94-.94-2.06-.94 2.06-2.06.94z\"/><path d=\"M17.41 7.96l-1.37-1.37c-.4-.4-.92-.59-1.43-.59-.52 0-1.04.2-1.43.59L10.3 9.45l-7.72 7.72c-.78.78-.78 2.05 0 2.83L4 21.41c.39.39.9.59 1.41.59.51 0 1.02-.2 1.41-.59l7.78-7.78 2.81-2.81c.8-.78.8-2.07 0-2.86zM5.41 20L4 18.59l7.72-7.72 1.47 1.35L5.41 20z\"/>\n",
              "  </svg>\n",
              "      </button>\n",
              "      \n",
              "  <style>\n",
              "    .colab-df-container {\n",
              "      display:flex;\n",
              "      flex-wrap:wrap;\n",
              "      gap: 12px;\n",
              "    }\n",
              "\n",
              "    .colab-df-convert {\n",
              "      background-color: #E8F0FE;\n",
              "      border: none;\n",
              "      border-radius: 50%;\n",
              "      cursor: pointer;\n",
              "      display: none;\n",
              "      fill: #1967D2;\n",
              "      height: 32px;\n",
              "      padding: 0 0 0 0;\n",
              "      width: 32px;\n",
              "    }\n",
              "\n",
              "    .colab-df-convert:hover {\n",
              "      background-color: #E2EBFA;\n",
              "      box-shadow: 0px 1px 2px rgba(60, 64, 67, 0.3), 0px 1px 3px 1px rgba(60, 64, 67, 0.15);\n",
              "      fill: #174EA6;\n",
              "    }\n",
              "\n",
              "    [theme=dark] .colab-df-convert {\n",
              "      background-color: #3B4455;\n",
              "      fill: #D2E3FC;\n",
              "    }\n",
              "\n",
              "    [theme=dark] .colab-df-convert:hover {\n",
              "      background-color: #434B5C;\n",
              "      box-shadow: 0px 1px 3px 1px rgba(0, 0, 0, 0.15);\n",
              "      filter: drop-shadow(0px 1px 2px rgba(0, 0, 0, 0.3));\n",
              "      fill: #FFFFFF;\n",
              "    }\n",
              "  </style>\n",
              "\n",
              "      <script>\n",
              "        const buttonEl =\n",
              "          document.querySelector('#df-4db12b99-2860-457f-8ce0-b4be38e0374a button.colab-df-convert');\n",
              "        buttonEl.style.display =\n",
              "          google.colab.kernel.accessAllowed ? 'block' : 'none';\n",
              "\n",
              "        async function convertToInteractive(key) {\n",
              "          const element = document.querySelector('#df-4db12b99-2860-457f-8ce0-b4be38e0374a');\n",
              "          const dataTable =\n",
              "            await google.colab.kernel.invokeFunction('convertToInteractive',\n",
              "                                                     [key], {});\n",
              "          if (!dataTable) return;\n",
              "\n",
              "          const docLinkHtml = 'Like what you see? Visit the ' +\n",
              "            '<a target=\"_blank\" href=https://colab.research.google.com/notebooks/data_table.ipynb>data table notebook</a>'\n",
              "            + ' to learn more about interactive tables.';\n",
              "          element.innerHTML = '';\n",
              "          dataTable['output_type'] = 'display_data';\n",
              "          await google.colab.output.renderOutput(dataTable, element);\n",
              "          const docLink = document.createElement('div');\n",
              "          docLink.innerHTML = docLinkHtml;\n",
              "          element.appendChild(docLink);\n",
              "        }\n",
              "      </script>\n",
              "    </div>\n",
              "  </div>\n",
              "  "
            ]
          },
          "metadata": {},
          "execution_count": 33
        }
      ]
    },
    {
      "cell_type": "code",
      "source": [
        "X_test_s"
      ],
      "metadata": {
        "colab": {
          "base_uri": "https://localhost:8080/",
          "height": 488
        },
        "id": "SJkcGx5kyBXY",
        "outputId": "4cc96698-93e6-4a87-9760-563c613fd3de"
      },
      "execution_count": null,
      "outputs": [
        {
          "output_type": "execute_result",
          "data": {
            "text/plain": [
              "      touches_att_pen_area  shots_on_target      npxg  touches_att_3rd  \\\n",
              "1988             -0.731217        -0.848752 -0.935914        -0.723319   \n",
              "661              -0.881628        -1.028043 -0.935914        -1.027141   \n",
              "176              -0.956834        -1.028043 -0.935914        -0.518034   \n",
              "1554              0.284063         0.047701  0.113785        -0.292221   \n",
              "97               -0.562003        -0.579816 -0.113177        -0.830067   \n",
              "...                    ...              ...       ...              ...   \n",
              "162               2.841065         2.109545  2.808958         1.292580   \n",
              "1357              0.020843        -0.041944 -0.113177         0.434489   \n",
              "776              -1.032040        -0.759107 -0.964285        -1.018930   \n",
              "360              -0.242378        -0.131590  0.369117        -0.485189   \n",
              "125               0.678894         0.495928  0.198895        -0.008927   \n",
              "\n",
              "           gca     goals        xa        xg  gca_passes_live  \\\n",
              "1988 -0.548349 -0.624247 -0.798261 -0.888650        -0.570778   \n",
              "661  -0.923475 -0.827159 -0.798261 -0.888650        -0.853573   \n",
              "176  -0.548349 -0.827159 -0.552191 -0.888650        -0.570778   \n",
              "1554 -0.173223 -0.015513 -0.502977  0.535455        -0.853573   \n",
              "97   -0.735912 -0.421336 -0.650619 -0.200333        -0.853573   \n",
              "...        ...       ...       ...       ...              ...   \n",
              "162   1.327280  2.825247  1.268729  2.410527         1.974374   \n",
              "1357 -0.173223 -0.624247  0.235234 -0.200333        -0.005189   \n",
              "776  -0.923475 -0.827159 -0.552191 -0.912386        -0.853573   \n",
              "360  -0.548349  0.593221 -0.404548  0.393044        -0.570778   \n",
              "125  -0.360786  0.187398 -0.552191  0.250634        -0.005189   \n",
              "\n",
              "      passes_completed_short  ...  npxg_xa_per90  gca_shots  xg_xa_per90  \\\n",
              "1988               -0.651665  ...      -1.073930  -0.565377    -1.109683   \n",
              "661                -0.992318  ...      -0.465494  -0.565377    -0.525136   \n",
              "176                -0.471697  ...      -0.894978  -0.565377    -0.937757   \n",
              "1554               -0.445988  ...      -0.071800  -0.565377     0.437648   \n",
              "97                 -0.696657  ...       0.536637  -0.565377     0.437648   \n",
              "...                      ...  ...            ...        ...          ...   \n",
              "162                 0.704519  ...       1.467187   0.745816     1.434817   \n",
              "1357                0.203181  ...      -0.000219  -0.565377    -0.078129   \n",
              "776                -0.934471  ...       0.178733  -0.565377     0.093797   \n",
              "360                 0.003931  ...      -0.143380  -0.565377    -0.078129   \n",
              "125                -0.169609  ...      -0.501284  -0.565377    -0.421980   \n",
              "\n",
              "      tackles_won  passes_oob  passes_switches    blocks  passes_offsides  \\\n",
              "1988    -0.318506   -0.716399        -0.705182 -0.400214         0.085516   \n",
              "661     -0.978737   -1.114578        -0.822638 -1.165088        -0.795235   \n",
              "176      0.561802   -0.052766        -0.294088 -0.247239         0.085516   \n",
              "1554    -0.978737   -0.185492        -0.646454 -0.323727        -0.354859   \n",
              "97      -0.318506   -0.849125        -0.822638 -0.782651        -0.795235   \n",
              "...           ...         ...              ...       ...              ...   \n",
              "162     -0.648622    0.478140        -0.235360  0.670610        -0.354859   \n",
              "1357     0.231687    1.009046         0.997923  0.288173         0.525892   \n",
              "776     -0.978737   -0.981852        -0.763910 -0.935626        -0.795235   \n",
              "360     -0.538583   -0.716399        -0.705182 -0.323727        -0.795235   \n",
              "125      0.011610   -0.318219        -0.117905  0.211685         0.525892   \n",
              "\n",
              "      passes_other_body  pens_won  \n",
              "1988          -0.863876 -0.477675  \n",
              "661           -0.863876 -0.477675  \n",
              "176           -0.699639 -0.477675  \n",
              "1554           1.106966  0.813233  \n",
              "97            -0.699639 -0.477675  \n",
              "...                 ...       ...  \n",
              "162            1.271203  0.813233  \n",
              "1357          -0.535402 -0.477675  \n",
              "776           -0.863876 -0.477675  \n",
              "360            0.942729 -0.477675  \n",
              "125            0.778493 -0.477675  \n",
              "\n",
              "[164 rows x 90 columns]"
            ],
            "text/html": [
              "\n",
              "  <div id=\"df-8818a94e-0626-4b18-bce7-4ca7db84d780\">\n",
              "    <div class=\"colab-df-container\">\n",
              "      <div>\n",
              "<style scoped>\n",
              "    .dataframe tbody tr th:only-of-type {\n",
              "        vertical-align: middle;\n",
              "    }\n",
              "\n",
              "    .dataframe tbody tr th {\n",
              "        vertical-align: top;\n",
              "    }\n",
              "\n",
              "    .dataframe thead th {\n",
              "        text-align: right;\n",
              "    }\n",
              "</style>\n",
              "<table border=\"1\" class=\"dataframe\">\n",
              "  <thead>\n",
              "    <tr style=\"text-align: right;\">\n",
              "      <th></th>\n",
              "      <th>touches_att_pen_area</th>\n",
              "      <th>shots_on_target</th>\n",
              "      <th>npxg</th>\n",
              "      <th>touches_att_3rd</th>\n",
              "      <th>gca</th>\n",
              "      <th>goals</th>\n",
              "      <th>xa</th>\n",
              "      <th>xg</th>\n",
              "      <th>gca_passes_live</th>\n",
              "      <th>passes_completed_short</th>\n",
              "      <th>...</th>\n",
              "      <th>npxg_xa_per90</th>\n",
              "      <th>gca_shots</th>\n",
              "      <th>xg_xa_per90</th>\n",
              "      <th>tackles_won</th>\n",
              "      <th>passes_oob</th>\n",
              "      <th>passes_switches</th>\n",
              "      <th>blocks</th>\n",
              "      <th>passes_offsides</th>\n",
              "      <th>passes_other_body</th>\n",
              "      <th>pens_won</th>\n",
              "    </tr>\n",
              "  </thead>\n",
              "  <tbody>\n",
              "    <tr>\n",
              "      <th>1988</th>\n",
              "      <td>-0.731217</td>\n",
              "      <td>-0.848752</td>\n",
              "      <td>-0.935914</td>\n",
              "      <td>-0.723319</td>\n",
              "      <td>-0.548349</td>\n",
              "      <td>-0.624247</td>\n",
              "      <td>-0.798261</td>\n",
              "      <td>-0.888650</td>\n",
              "      <td>-0.570778</td>\n",
              "      <td>-0.651665</td>\n",
              "      <td>...</td>\n",
              "      <td>-1.073930</td>\n",
              "      <td>-0.565377</td>\n",
              "      <td>-1.109683</td>\n",
              "      <td>-0.318506</td>\n",
              "      <td>-0.716399</td>\n",
              "      <td>-0.705182</td>\n",
              "      <td>-0.400214</td>\n",
              "      <td>0.085516</td>\n",
              "      <td>-0.863876</td>\n",
              "      <td>-0.477675</td>\n",
              "    </tr>\n",
              "    <tr>\n",
              "      <th>661</th>\n",
              "      <td>-0.881628</td>\n",
              "      <td>-1.028043</td>\n",
              "      <td>-0.935914</td>\n",
              "      <td>-1.027141</td>\n",
              "      <td>-0.923475</td>\n",
              "      <td>-0.827159</td>\n",
              "      <td>-0.798261</td>\n",
              "      <td>-0.888650</td>\n",
              "      <td>-0.853573</td>\n",
              "      <td>-0.992318</td>\n",
              "      <td>...</td>\n",
              "      <td>-0.465494</td>\n",
              "      <td>-0.565377</td>\n",
              "      <td>-0.525136</td>\n",
              "      <td>-0.978737</td>\n",
              "      <td>-1.114578</td>\n",
              "      <td>-0.822638</td>\n",
              "      <td>-1.165088</td>\n",
              "      <td>-0.795235</td>\n",
              "      <td>-0.863876</td>\n",
              "      <td>-0.477675</td>\n",
              "    </tr>\n",
              "    <tr>\n",
              "      <th>176</th>\n",
              "      <td>-0.956834</td>\n",
              "      <td>-1.028043</td>\n",
              "      <td>-0.935914</td>\n",
              "      <td>-0.518034</td>\n",
              "      <td>-0.548349</td>\n",
              "      <td>-0.827159</td>\n",
              "      <td>-0.552191</td>\n",
              "      <td>-0.888650</td>\n",
              "      <td>-0.570778</td>\n",
              "      <td>-0.471697</td>\n",
              "      <td>...</td>\n",
              "      <td>-0.894978</td>\n",
              "      <td>-0.565377</td>\n",
              "      <td>-0.937757</td>\n",
              "      <td>0.561802</td>\n",
              "      <td>-0.052766</td>\n",
              "      <td>-0.294088</td>\n",
              "      <td>-0.247239</td>\n",
              "      <td>0.085516</td>\n",
              "      <td>-0.699639</td>\n",
              "      <td>-0.477675</td>\n",
              "    </tr>\n",
              "    <tr>\n",
              "      <th>1554</th>\n",
              "      <td>0.284063</td>\n",
              "      <td>0.047701</td>\n",
              "      <td>0.113785</td>\n",
              "      <td>-0.292221</td>\n",
              "      <td>-0.173223</td>\n",
              "      <td>-0.015513</td>\n",
              "      <td>-0.502977</td>\n",
              "      <td>0.535455</td>\n",
              "      <td>-0.853573</td>\n",
              "      <td>-0.445988</td>\n",
              "      <td>...</td>\n",
              "      <td>-0.071800</td>\n",
              "      <td>-0.565377</td>\n",
              "      <td>0.437648</td>\n",
              "      <td>-0.978737</td>\n",
              "      <td>-0.185492</td>\n",
              "      <td>-0.646454</td>\n",
              "      <td>-0.323727</td>\n",
              "      <td>-0.354859</td>\n",
              "      <td>1.106966</td>\n",
              "      <td>0.813233</td>\n",
              "    </tr>\n",
              "    <tr>\n",
              "      <th>97</th>\n",
              "      <td>-0.562003</td>\n",
              "      <td>-0.579816</td>\n",
              "      <td>-0.113177</td>\n",
              "      <td>-0.830067</td>\n",
              "      <td>-0.735912</td>\n",
              "      <td>-0.421336</td>\n",
              "      <td>-0.650619</td>\n",
              "      <td>-0.200333</td>\n",
              "      <td>-0.853573</td>\n",
              "      <td>-0.696657</td>\n",
              "      <td>...</td>\n",
              "      <td>0.536637</td>\n",
              "      <td>-0.565377</td>\n",
              "      <td>0.437648</td>\n",
              "      <td>-0.318506</td>\n",
              "      <td>-0.849125</td>\n",
              "      <td>-0.822638</td>\n",
              "      <td>-0.782651</td>\n",
              "      <td>-0.795235</td>\n",
              "      <td>-0.699639</td>\n",
              "      <td>-0.477675</td>\n",
              "    </tr>\n",
              "    <tr>\n",
              "      <th>...</th>\n",
              "      <td>...</td>\n",
              "      <td>...</td>\n",
              "      <td>...</td>\n",
              "      <td>...</td>\n",
              "      <td>...</td>\n",
              "      <td>...</td>\n",
              "      <td>...</td>\n",
              "      <td>...</td>\n",
              "      <td>...</td>\n",
              "      <td>...</td>\n",
              "      <td>...</td>\n",
              "      <td>...</td>\n",
              "      <td>...</td>\n",
              "      <td>...</td>\n",
              "      <td>...</td>\n",
              "      <td>...</td>\n",
              "      <td>...</td>\n",
              "      <td>...</td>\n",
              "      <td>...</td>\n",
              "      <td>...</td>\n",
              "      <td>...</td>\n",
              "    </tr>\n",
              "    <tr>\n",
              "      <th>162</th>\n",
              "      <td>2.841065</td>\n",
              "      <td>2.109545</td>\n",
              "      <td>2.808958</td>\n",
              "      <td>1.292580</td>\n",
              "      <td>1.327280</td>\n",
              "      <td>2.825247</td>\n",
              "      <td>1.268729</td>\n",
              "      <td>2.410527</td>\n",
              "      <td>1.974374</td>\n",
              "      <td>0.704519</td>\n",
              "      <td>...</td>\n",
              "      <td>1.467187</td>\n",
              "      <td>0.745816</td>\n",
              "      <td>1.434817</td>\n",
              "      <td>-0.648622</td>\n",
              "      <td>0.478140</td>\n",
              "      <td>-0.235360</td>\n",
              "      <td>0.670610</td>\n",
              "      <td>-0.354859</td>\n",
              "      <td>1.271203</td>\n",
              "      <td>0.813233</td>\n",
              "    </tr>\n",
              "    <tr>\n",
              "      <th>1357</th>\n",
              "      <td>0.020843</td>\n",
              "      <td>-0.041944</td>\n",
              "      <td>-0.113177</td>\n",
              "      <td>0.434489</td>\n",
              "      <td>-0.173223</td>\n",
              "      <td>-0.624247</td>\n",
              "      <td>0.235234</td>\n",
              "      <td>-0.200333</td>\n",
              "      <td>-0.005189</td>\n",
              "      <td>0.203181</td>\n",
              "      <td>...</td>\n",
              "      <td>-0.000219</td>\n",
              "      <td>-0.565377</td>\n",
              "      <td>-0.078129</td>\n",
              "      <td>0.231687</td>\n",
              "      <td>1.009046</td>\n",
              "      <td>0.997923</td>\n",
              "      <td>0.288173</td>\n",
              "      <td>0.525892</td>\n",
              "      <td>-0.535402</td>\n",
              "      <td>-0.477675</td>\n",
              "    </tr>\n",
              "    <tr>\n",
              "      <th>776</th>\n",
              "      <td>-1.032040</td>\n",
              "      <td>-0.759107</td>\n",
              "      <td>-0.964285</td>\n",
              "      <td>-1.018930</td>\n",
              "      <td>-0.923475</td>\n",
              "      <td>-0.827159</td>\n",
              "      <td>-0.552191</td>\n",
              "      <td>-0.912386</td>\n",
              "      <td>-0.853573</td>\n",
              "      <td>-0.934471</td>\n",
              "      <td>...</td>\n",
              "      <td>0.178733</td>\n",
              "      <td>-0.565377</td>\n",
              "      <td>0.093797</td>\n",
              "      <td>-0.978737</td>\n",
              "      <td>-0.981852</td>\n",
              "      <td>-0.763910</td>\n",
              "      <td>-0.935626</td>\n",
              "      <td>-0.795235</td>\n",
              "      <td>-0.863876</td>\n",
              "      <td>-0.477675</td>\n",
              "    </tr>\n",
              "    <tr>\n",
              "      <th>360</th>\n",
              "      <td>-0.242378</td>\n",
              "      <td>-0.131590</td>\n",
              "      <td>0.369117</td>\n",
              "      <td>-0.485189</td>\n",
              "      <td>-0.548349</td>\n",
              "      <td>0.593221</td>\n",
              "      <td>-0.404548</td>\n",
              "      <td>0.393044</td>\n",
              "      <td>-0.570778</td>\n",
              "      <td>0.003931</td>\n",
              "      <td>...</td>\n",
              "      <td>-0.143380</td>\n",
              "      <td>-0.565377</td>\n",
              "      <td>-0.078129</td>\n",
              "      <td>-0.538583</td>\n",
              "      <td>-0.716399</td>\n",
              "      <td>-0.705182</td>\n",
              "      <td>-0.323727</td>\n",
              "      <td>-0.795235</td>\n",
              "      <td>0.942729</td>\n",
              "      <td>-0.477675</td>\n",
              "    </tr>\n",
              "    <tr>\n",
              "      <th>125</th>\n",
              "      <td>0.678894</td>\n",
              "      <td>0.495928</td>\n",
              "      <td>0.198895</td>\n",
              "      <td>-0.008927</td>\n",
              "      <td>-0.360786</td>\n",
              "      <td>0.187398</td>\n",
              "      <td>-0.552191</td>\n",
              "      <td>0.250634</td>\n",
              "      <td>-0.005189</td>\n",
              "      <td>-0.169609</td>\n",
              "      <td>...</td>\n",
              "      <td>-0.501284</td>\n",
              "      <td>-0.565377</td>\n",
              "      <td>-0.421980</td>\n",
              "      <td>0.011610</td>\n",
              "      <td>-0.318219</td>\n",
              "      <td>-0.117905</td>\n",
              "      <td>0.211685</td>\n",
              "      <td>0.525892</td>\n",
              "      <td>0.778493</td>\n",
              "      <td>-0.477675</td>\n",
              "    </tr>\n",
              "  </tbody>\n",
              "</table>\n",
              "<p>164 rows × 90 columns</p>\n",
              "</div>\n",
              "      <button class=\"colab-df-convert\" onclick=\"convertToInteractive('df-8818a94e-0626-4b18-bce7-4ca7db84d780')\"\n",
              "              title=\"Convert this dataframe to an interactive table.\"\n",
              "              style=\"display:none;\">\n",
              "        \n",
              "  <svg xmlns=\"http://www.w3.org/2000/svg\" height=\"24px\"viewBox=\"0 0 24 24\"\n",
              "       width=\"24px\">\n",
              "    <path d=\"M0 0h24v24H0V0z\" fill=\"none\"/>\n",
              "    <path d=\"M18.56 5.44l.94 2.06.94-2.06 2.06-.94-2.06-.94-.94-2.06-.94 2.06-2.06.94zm-11 1L8.5 8.5l.94-2.06 2.06-.94-2.06-.94L8.5 2.5l-.94 2.06-2.06.94zm10 10l.94 2.06.94-2.06 2.06-.94-2.06-.94-.94-2.06-.94 2.06-2.06.94z\"/><path d=\"M17.41 7.96l-1.37-1.37c-.4-.4-.92-.59-1.43-.59-.52 0-1.04.2-1.43.59L10.3 9.45l-7.72 7.72c-.78.78-.78 2.05 0 2.83L4 21.41c.39.39.9.59 1.41.59.51 0 1.02-.2 1.41-.59l7.78-7.78 2.81-2.81c.8-.78.8-2.07 0-2.86zM5.41 20L4 18.59l7.72-7.72 1.47 1.35L5.41 20z\"/>\n",
              "  </svg>\n",
              "      </button>\n",
              "      \n",
              "  <style>\n",
              "    .colab-df-container {\n",
              "      display:flex;\n",
              "      flex-wrap:wrap;\n",
              "      gap: 12px;\n",
              "    }\n",
              "\n",
              "    .colab-df-convert {\n",
              "      background-color: #E8F0FE;\n",
              "      border: none;\n",
              "      border-radius: 50%;\n",
              "      cursor: pointer;\n",
              "      display: none;\n",
              "      fill: #1967D2;\n",
              "      height: 32px;\n",
              "      padding: 0 0 0 0;\n",
              "      width: 32px;\n",
              "    }\n",
              "\n",
              "    .colab-df-convert:hover {\n",
              "      background-color: #E2EBFA;\n",
              "      box-shadow: 0px 1px 2px rgba(60, 64, 67, 0.3), 0px 1px 3px 1px rgba(60, 64, 67, 0.15);\n",
              "      fill: #174EA6;\n",
              "    }\n",
              "\n",
              "    [theme=dark] .colab-df-convert {\n",
              "      background-color: #3B4455;\n",
              "      fill: #D2E3FC;\n",
              "    }\n",
              "\n",
              "    [theme=dark] .colab-df-convert:hover {\n",
              "      background-color: #434B5C;\n",
              "      box-shadow: 0px 1px 3px 1px rgba(0, 0, 0, 0.15);\n",
              "      filter: drop-shadow(0px 1px 2px rgba(0, 0, 0, 0.3));\n",
              "      fill: #FFFFFF;\n",
              "    }\n",
              "  </style>\n",
              "\n",
              "      <script>\n",
              "        const buttonEl =\n",
              "          document.querySelector('#df-8818a94e-0626-4b18-bce7-4ca7db84d780 button.colab-df-convert');\n",
              "        buttonEl.style.display =\n",
              "          google.colab.kernel.accessAllowed ? 'block' : 'none';\n",
              "\n",
              "        async function convertToInteractive(key) {\n",
              "          const element = document.querySelector('#df-8818a94e-0626-4b18-bce7-4ca7db84d780');\n",
              "          const dataTable =\n",
              "            await google.colab.kernel.invokeFunction('convertToInteractive',\n",
              "                                                     [key], {});\n",
              "          if (!dataTable) return;\n",
              "\n",
              "          const docLinkHtml = 'Like what you see? Visit the ' +\n",
              "            '<a target=\"_blank\" href=https://colab.research.google.com/notebooks/data_table.ipynb>data table notebook</a>'\n",
              "            + ' to learn more about interactive tables.';\n",
              "          element.innerHTML = '';\n",
              "          dataTable['output_type'] = 'display_data';\n",
              "          await google.colab.output.renderOutput(dataTable, element);\n",
              "          const docLink = document.createElement('div');\n",
              "          docLink.innerHTML = docLinkHtml;\n",
              "          element.appendChild(docLink);\n",
              "        }\n",
              "      </script>\n",
              "    </div>\n",
              "  </div>\n",
              "  "
            ]
          },
          "metadata": {},
          "execution_count": 34
        }
      ]
    },
    {
      "cell_type": "code",
      "source": [
        "# X_train = X_train_s\n",
        "# X_test = X_test_s"
      ],
      "metadata": {
        "id": "-dX1tgfZ1hWw"
      },
      "execution_count": null,
      "outputs": []
    },
    {
      "cell_type": "code",
      "source": [
        "# # do corr\n",
        "from sklearn.decomposition import PCA\n",
        "pca = PCA(n_components=20)\n",
        "pca.fit(X_train_s)\n",
        "X_train = pca.transform(X_train_s)\n",
        "X_test = pca.transform(X_test_s)"
      ],
      "metadata": {
        "id": "0gw3dPyEJ2A6"
      },
      "execution_count": null,
      "outputs": []
    },
    {
      "cell_type": "code",
      "source": [
        "# # bez cor\n",
        "# from sklearn.decomposition import PCA\n",
        "# pca = PCA(n_components=25)\n",
        "# pca.fit(X_train_s)\n",
        "# X_train = pca.transform(X_train_s)\n",
        "# X_test = pca.transform(X_test_s)"
      ],
      "metadata": {
        "id": "ke7wSCVvyLiW"
      },
      "execution_count": null,
      "outputs": []
    },
    {
      "cell_type": "code",
      "source": [
        "# bez scalera\n",
        "# from sklearn.decomposition import PCA\n",
        "# pca = PCA(n_components=20)\n",
        "# pca.fit(X_train)\n",
        "# X_train = pca.transform(X_train)\n",
        "# X_test = pca.transform(X_test)"
      ],
      "metadata": {
        "id": "U2LKmqDy2gSS"
      },
      "execution_count": null,
      "outputs": []
    },
    {
      "cell_type": "code",
      "source": [
        "X_train"
      ],
      "metadata": {
        "colab": {
          "base_uri": "https://localhost:8080/"
        },
        "id": "4-oIy6s9ygJy",
        "outputId": "e2b76502-1eb6-4f13-be39-49b02f986429"
      },
      "execution_count": null,
      "outputs": [
        {
          "output_type": "execute_result",
          "data": {
            "text/plain": [
              "array([[-1.58491336, -2.32772886,  0.81748853, ...,  0.2838515 ,\n",
              "        -0.49894362,  0.60324305],\n",
              "       [-8.09274781,  7.02544873,  1.13220643, ..., -0.60466643,\n",
              "        -0.11302786,  0.10926898],\n",
              "       [-5.94880791,  1.42905552,  0.95250922, ...,  0.3515078 ,\n",
              "        -0.11478334, -0.4675335 ],\n",
              "       ...,\n",
              "       [-8.24489033,  4.08165572,  1.11424997, ..., -0.51616611,\n",
              "         0.2640275 ,  0.32423085],\n",
              "       [-7.2558454 ,  1.10093071,  0.51361761, ...,  1.54608271,\n",
              "         0.08228269, -0.37234331],\n",
              "       [ 6.70013653,  1.25281978,  5.75228204, ...,  0.25183134,\n",
              "        -0.80214466, -0.84531672]])"
            ]
          },
          "metadata": {},
          "execution_count": 39
        }
      ]
    },
    {
      "cell_type": "code",
      "source": [
        "X_test"
      ],
      "metadata": {
        "colab": {
          "base_uri": "https://localhost:8080/"
        },
        "id": "3uS18jC21oyO",
        "outputId": "6de1dc9e-fbd0-4e91-fa43-a893d4c5c8d3"
      },
      "execution_count": null,
      "outputs": [
        {
          "output_type": "execute_result",
          "data": {
            "text/plain": [
              "array([[-5.67772524, -0.17182919,  1.08593508, ...,  0.61791365,\n",
              "        -0.09534481,  0.37797852],\n",
              "       [-8.39741094, -1.59418987,  0.62888226, ..., -0.32138129,\n",
              "        -0.26547257,  0.30722944],\n",
              "       [-4.08872663, -0.64153327,  1.82875249, ..., -0.08887152,\n",
              "         0.03677683,  0.75303852],\n",
              "       ...,\n",
              "       [-8.05294038, -2.70947026,  0.43730357, ..., -0.29395244,\n",
              "        -0.38238207,  0.64809795],\n",
              "       [-1.89457913, -1.08329579, -2.15460078, ..., -0.46164861,\n",
              "         0.25372137, -0.60157892],\n",
              "       [-0.83529577, -3.31065311, -2.24766808, ...,  0.08431722,\n",
              "        -0.23148509,  0.04103195]])"
            ]
          },
          "metadata": {},
          "execution_count": 40
        }
      ]
    },
    {
      "cell_type": "code",
      "source": [
        "from sklearn.linear_model import LinearRegression"
      ],
      "metadata": {
        "id": "7sTZAiFcjiI_"
      },
      "execution_count": null,
      "outputs": []
    },
    {
      "cell_type": "code",
      "source": [
        "model = LinearRegression()\n",
        "model.fit(X_train, y_train)"
      ],
      "metadata": {
        "id": "-JYamS8qkVlm",
        "colab": {
          "base_uri": "https://localhost:8080/"
        },
        "outputId": "91a86443-7085-4737-8fbc-1a70c47e24b1"
      },
      "execution_count": null,
      "outputs": [
        {
          "output_type": "execute_result",
          "data": {
            "text/plain": [
              "LinearRegression()"
            ]
          },
          "metadata": {},
          "execution_count": 42
        }
      ]
    },
    {
      "cell_type": "code",
      "source": [
        "model.score(X_train, y_train)"
      ],
      "metadata": {
        "id": "Pxz4ixoplXSR",
        "colab": {
          "base_uri": "https://localhost:8080/"
        },
        "outputId": "27c6eea8-468a-4a3e-b0fe-a25115a84da6"
      },
      "execution_count": null,
      "outputs": [
        {
          "output_type": "execute_result",
          "data": {
            "text/plain": [
              "0.5632800242971736"
            ]
          },
          "metadata": {},
          "execution_count": 43
        }
      ]
    },
    {
      "cell_type": "code",
      "source": [
        "model.score(X_test, y_test)"
      ],
      "metadata": {
        "colab": {
          "base_uri": "https://localhost:8080/"
        },
        "id": "lnoPMI4wy1KS",
        "outputId": "061b612c-c0c3-446a-c996-e80c0b5a904e"
      },
      "execution_count": null,
      "outputs": [
        {
          "output_type": "execute_result",
          "data": {
            "text/plain": [
              "0.5593618522811223"
            ]
          },
          "metadata": {},
          "execution_count": 44
        }
      ]
    },
    {
      "cell_type": "code",
      "source": [
        "# %matplotlib inline\n",
        "# from sklearn.linear_model import LinearRegression\n",
        "# from yellowbrick.model_selection import LearningCurve\n",
        "\n",
        "# clf = LinearRegression()\n",
        "# sizes = np.linspace(0.3, 1.0, 10)\n",
        "# visualizer = LearningCurve(clf, scoring='r2', train_sizes=np.linspace(0.1,1.0,10))\n",
        "\n",
        "# visualizer.fit(X_train, y_train)\n",
        "# visualizer.show()   "
      ],
      "metadata": {
        "id": "kOvPrX41RhYp"
      },
      "execution_count": null,
      "outputs": []
    },
    {
      "cell_type": "code",
      "source": [
        "# from sklearn.ensemble import RandomForestRegressor\n",
        "\n",
        "# from yellowbrick.model_selection import ValidationCurve\n",
        "\n",
        "# rfr = RandomForestRegressor()\n",
        "\n",
        "# viz = ValidationCurve(\n",
        "#     rfr, param_name=\"min_samples_split\",\n",
        "#     param_range=np.arange(1, 100, 2), cv=3)\n",
        "\n",
        "# viz.fit(X_train, y_train)\n",
        "# viz.show()"
      ],
      "metadata": {
        "id": "mZaEtSl-R3_2"
      },
      "execution_count": null,
      "outputs": []
    },
    {
      "cell_type": "code",
      "source": [
        "from sklearn.linear_model import Ridge\n",
        "rng = np.random.RandomState(0)\n",
        "clf = Ridge(alpha=1.0)\n",
        "clf.fit(X_train, y_train)\n",
        "Ridge()"
      ],
      "metadata": {
        "id": "V9AOCkAtRhex",
        "colab": {
          "base_uri": "https://localhost:8080/"
        },
        "outputId": "02326518-886e-4b69-a985-ab450547817b"
      },
      "execution_count": null,
      "outputs": [
        {
          "output_type": "execute_result",
          "data": {
            "text/plain": [
              "Ridge()"
            ]
          },
          "metadata": {},
          "execution_count": 47
        }
      ]
    },
    {
      "cell_type": "code",
      "source": [],
      "metadata": {
        "id": "5Skn6BJlSvb4"
      },
      "execution_count": null,
      "outputs": []
    },
    {
      "cell_type": "code",
      "source": [
        "clf.score(X_train, y_train)"
      ],
      "metadata": {
        "id": "nG1YEJi-RhhX",
        "colab": {
          "base_uri": "https://localhost:8080/"
        },
        "outputId": "aa9f14f3-287b-4dfd-fa21-360a0bfaa22b"
      },
      "execution_count": null,
      "outputs": [
        {
          "output_type": "execute_result",
          "data": {
            "text/plain": [
              "0.5632797484059977"
            ]
          },
          "metadata": {},
          "execution_count": 48
        }
      ]
    },
    {
      "cell_type": "code",
      "source": [
        "from sklearn.model_selection import cross_val_score, cross_val_predict\n",
        "lm = LinearRegression()\n",
        "scores = cross_val_score(lm, X_train, y_train, scoring='r2', cv=12)\n",
        "scores    "
      ],
      "metadata": {
        "id": "cgVO7uKU4JQB",
        "colab": {
          "base_uri": "https://localhost:8080/"
        },
        "outputId": "de363455-93d9-4741-c962-894c58adf211"
      },
      "execution_count": null,
      "outputs": [
        {
          "output_type": "execute_result",
          "data": {
            "text/plain": [
              "array([0.47807989, 0.6563337 , 0.54340782, 0.56963128, 0.12414537,\n",
              "       0.72686533, 0.25951357, 0.35703601, 0.58962319, 0.2821723 ,\n",
              "       0.68796282, 0.5683028 ])"
            ]
          },
          "metadata": {},
          "execution_count": 49
        }
      ]
    },
    {
      "cell_type": "code",
      "source": [
        "scores[5]"
      ],
      "metadata": {
        "id": "eAydZ1ZA4WjD",
        "colab": {
          "base_uri": "https://localhost:8080/"
        },
        "outputId": "8fd36670-4571-4b65-889e-24f7b97ffc2b"
      },
      "execution_count": null,
      "outputs": [
        {
          "output_type": "execute_result",
          "data": {
            "text/plain": [
              "0.7268653262655721"
            ]
          },
          "metadata": {},
          "execution_count": 50
        }
      ]
    },
    {
      "cell_type": "code",
      "source": [
        "y_pred = cross_val_predict(lm, X_test, y_test, cv=5)"
      ],
      "metadata": {
        "id": "j77-8JS65JeP"
      },
      "execution_count": null,
      "outputs": []
    },
    {
      "cell_type": "code",
      "source": [
        "df_preds = pd.DataFrame({'Actual': y_test.squeeze(), 'Predicted': y_pred.squeeze()})\n",
        "print(df_preds)"
      ],
      "metadata": {
        "id": "o_XnGb5O5WP7",
        "colab": {
          "base_uri": "https://localhost:8080/"
        },
        "outputId": "c9ad5b3e-a3e9-4d86-b709-fba955db7ae0"
      },
      "execution_count": null,
      "outputs": [
        {
          "output_type": "stream",
          "name": "stdout",
          "text": [
            "        Actual     Predicted\n",
            "1988   1000000  9.904516e+05\n",
            "661    1000000  4.730312e+06\n",
            "176    1000000 -2.036120e+06\n",
            "1554  21500000  1.038168e+07\n",
            "97    11000000  7.576289e+06\n",
            "...        ...           ...\n",
            "162   36000000  4.416691e+07\n",
            "1357   9000000  9.529643e+06\n",
            "776    3000000  3.547474e+06\n",
            "360    1000000  1.213071e+07\n",
            "125   20000000  6.797169e+06\n",
            "\n",
            "[164 rows x 2 columns]\n"
          ]
        }
      ]
    },
    {
      "cell_type": "code",
      "source": [
        "from sklearn.metrics import mean_absolute_error, mean_squared_error\n",
        "mae = mean_absolute_error(y_test, y_pred)\n",
        "mse = mean_squared_error(y_test, y_pred)"
      ],
      "metadata": {
        "id": "dotspja35yI2"
      },
      "execution_count": null,
      "outputs": []
    },
    {
      "cell_type": "code",
      "source": [
        "from sklearn import datasets, linear_model\n",
        "from sklearn.model_selection import cross_val_predict\n",
        "lasso = linear_model.Lasso()\n",
        "y_pred = cross_val_predict(lasso, X_train, y_train, cv=3)"
      ],
      "metadata": {
        "id": "FaYYiQSk5ItJ"
      },
      "execution_count": null,
      "outputs": []
    },
    {
      "cell_type": "code",
      "source": [
        "lasso.fit(X_train, y_train)\n",
        "lasso.score(X_train, y_train)"
      ],
      "metadata": {
        "colab": {
          "base_uri": "https://localhost:8080/"
        },
        "id": "SLjqVTNQ6NGr",
        "outputId": "89aa1bc3-8394-40fa-97fb-b9cfd3a55456"
      },
      "execution_count": null,
      "outputs": [
        {
          "output_type": "execute_result",
          "data": {
            "text/plain": [
              "0.5632800242971111"
            ]
          },
          "metadata": {},
          "execution_count": 55
        }
      ]
    },
    {
      "cell_type": "code",
      "source": [
        "lasso.score(X_test, y_test)"
      ],
      "metadata": {
        "colab": {
          "base_uri": "https://localhost:8080/"
        },
        "id": "miCq98nl6TGD",
        "outputId": "e190da68-e0ce-4d24-df66-3f9752cc7d76"
      },
      "execution_count": null,
      "outputs": [
        {
          "output_type": "execute_result",
          "data": {
            "text/plain": [
              "0.5593617787851258"
            ]
          },
          "metadata": {},
          "execution_count": 56
        }
      ]
    },
    {
      "cell_type": "code",
      "source": [
        "from sklearn.preprocessing import PolynomialFeatures\n",
        "poly = PolynomialFeatures(degree=2)\n",
        "X_train_poly = poly.fit_transform(X_train)\n",
        "X_test_poly = poly.transform(X_test)\n",
        "\n",
        "lr = LinearRegression(positive=True)\n",
        "lr.fit(X_train_poly, y_train)\n",
        "\n",
        "lr.score(X_train_poly, y_train)"
      ],
      "metadata": {
        "id": "o73X3GNUQTJO",
        "colab": {
          "base_uri": "https://localhost:8080/"
        },
        "outputId": "a0536026-9179-4fa5-fa8c-d6a36177772a"
      },
      "execution_count": null,
      "outputs": [
        {
          "output_type": "execute_result",
          "data": {
            "text/plain": [
              "0.7417135389028711"
            ]
          },
          "metadata": {},
          "execution_count": 57
        }
      ]
    },
    {
      "cell_type": "code",
      "source": [
        "lr.score(X_test_poly, y_test)"
      ],
      "metadata": {
        "id": "OWknNyIvQdSS",
        "colab": {
          "base_uri": "https://localhost:8080/"
        },
        "outputId": "228ccd9f-ad31-4e68-ec40-c870736c9c0e"
      },
      "execution_count": null,
      "outputs": [
        {
          "output_type": "execute_result",
          "data": {
            "text/plain": [
              "0.5205674198256676"
            ]
          },
          "metadata": {},
          "execution_count": 58
        }
      ]
    },
    {
      "cell_type": "code",
      "source": [
        "from sklearn.linear_model import Ridge\n",
        "rng = np.random.RandomState(0)\n",
        "clf = Ridge(alpha=2)\n",
        "clf.fit(X_train_poly, y_train)\n",
        "Ridge()\n",
        "clf.score(X_train_poly, y_train)"
      ],
      "metadata": {
        "colab": {
          "base_uri": "https://localhost:8080/"
        },
        "id": "NSg2t8yaSylA",
        "outputId": "13090342-36da-4ffb-81e7-4c4011519c2c"
      },
      "execution_count": null,
      "outputs": [
        {
          "output_type": "execute_result",
          "data": {
            "text/plain": [
              "0.8585627432743613"
            ]
          },
          "metadata": {},
          "execution_count": 59
        }
      ]
    },
    {
      "cell_type": "code",
      "source": [
        "clf.score(X_test_poly, y_test)"
      ],
      "metadata": {
        "id": "LvtISO3nQhma",
        "colab": {
          "base_uri": "https://localhost:8080/"
        },
        "outputId": "ae34a669-5d71-4ff5-d25a-a2822dcd3698"
      },
      "execution_count": null,
      "outputs": [
        {
          "output_type": "execute_result",
          "data": {
            "text/plain": [
              "-0.018687520635291444"
            ]
          },
          "metadata": {},
          "execution_count": 60
        }
      ]
    },
    {
      "cell_type": "markdown",
      "source": [
        "# RANSAC bez StandardScaler (na zbiorze treningowym) na 1 zmiennej"
      ],
      "metadata": {
        "id": "7NgBFOV0jimP"
      }
    },
    {
      "cell_type": "code",
      "source": [
        "from sklearn.linear_model import LinearRegression\n",
        "from sklearn.linear_model import RANSACRegressor"
      ],
      "metadata": {
        "id": "3ul37vYbTL7R"
      },
      "execution_count": null,
      "outputs": []
    },
    {
      "cell_type": "code",
      "source": [
        "ransac = RANSACRegressor(LinearRegression(),\n",
        "                         max_trials = 200,\n",
        "                         min_samples = 200,\n",
        "                         random_state = 0)"
      ],
      "metadata": {
        "id": "7lv8eSN0UV4l"
      },
      "execution_count": null,
      "outputs": []
    },
    {
      "cell_type": "code",
      "source": [
        "ransac.fit(X_train, y_train)"
      ],
      "metadata": {
        "id": "xt7r6XP2UaGB",
        "colab": {
          "base_uri": "https://localhost:8080/"
        },
        "outputId": "c6535df3-1689-4ada-c5f9-adeadf48e4b5"
      },
      "execution_count": null,
      "outputs": [
        {
          "output_type": "execute_result",
          "data": {
            "text/plain": [
              "RANSACRegressor(base_estimator=LinearRegression(), max_trials=200,\n",
              "                min_samples=200, random_state=0)"
            ]
          },
          "metadata": {},
          "execution_count": 63
        }
      ]
    },
    {
      "cell_type": "code",
      "source": [
        "print(f'train score: {ransac.score(X_train, y_train)}') \n",
        "print(f'validation score: {ransac.score(X_test, y_test)}')"
      ],
      "metadata": {
        "id": "Wx3w-wT0lfCr",
        "colab": {
          "base_uri": "https://localhost:8080/"
        },
        "outputId": "91bf9c02-4897-46e2-d558-35c28eb9947a"
      },
      "execution_count": null,
      "outputs": [
        {
          "output_type": "stream",
          "name": "stdout",
          "text": [
            "train score: 0.4996538749037237\n",
            "validation score: 0.5271837624426436\n"
          ]
        }
      ]
    },
    {
      "cell_type": "markdown",
      "source": [
        "# RandomForestRegressor (z podzialem na zbiory treningowy/walidacyjny/testowy)\n",
        "\n",
        "\n",
        "\n"
      ],
      "metadata": {
        "id": "NE9_4R-clq_u"
      }
    },
    {
      "cell_type": "code",
      "source": [
        "from sklearn.ensemble import RandomForestRegressor\n",
        "from sklearn.tree import DecisionTreeRegressor\n",
        "from sklearn import tree"
      ],
      "metadata": {
        "id": "zDTIG6X2ZtD-"
      },
      "execution_count": null,
      "outputs": []
    },
    {
      "cell_type": "code",
      "source": [
        "# X_train, X_test, y_train, y_test = train_test_split(X_2, y_2, test_size=0.2, random_state=0)"
      ],
      "metadata": {
        "id": "gJiAYPcyrbjW"
      },
      "execution_count": null,
      "outputs": []
    },
    {
      "cell_type": "code",
      "source": [
        "rfr = RandomForestRegressor(n_estimators=15, max_features=10, max_depth=4) #10 drzewek, 2 cechy, 5 podzialy na glebokosc"
      ],
      "metadata": {
        "id": "GN6oliFJZ898"
      },
      "execution_count": null,
      "outputs": []
    },
    {
      "cell_type": "code",
      "source": [
        "rfr.fit(X_train, y_train)"
      ],
      "metadata": {
        "id": "hCr_-WOPVy87",
        "colab": {
          "base_uri": "https://localhost:8080/"
        },
        "outputId": "2814fae8-c7dd-4b93-9f07-cab0218767a6"
      },
      "execution_count": null,
      "outputs": [
        {
          "output_type": "execute_result",
          "data": {
            "text/plain": [
              "RandomForestRegressor(max_depth=4, max_features=10, n_estimators=15)"
            ]
          },
          "metadata": {},
          "execution_count": 68
        }
      ]
    },
    {
      "cell_type": "code",
      "source": [
        "# fig = plt.figure(figsize=(25, 20))\n",
        "# tree.plot_tree(rfr.estimators_[1], feature_names = rfr.feature_names_in_, filled=True)\n",
        "# fig.savefig(\"decistion_tree.png\")"
      ],
      "metadata": {
        "id": "0P6sNFq1aELf"
      },
      "execution_count": null,
      "outputs": []
    },
    {
      "cell_type": "code",
      "source": [
        "# rfr.feature_names_in_"
      ],
      "metadata": {
        "id": "nwJ_fiovKBn-"
      },
      "execution_count": null,
      "outputs": []
    },
    {
      "cell_type": "code",
      "source": [
        "# rfr.feature_importances_"
      ],
      "metadata": {
        "id": "zikUDQlYJ78J"
      },
      "execution_count": null,
      "outputs": []
    },
    {
      "cell_type": "code",
      "source": [
        "rfr.score(X_train, y_train)"
      ],
      "metadata": {
        "id": "D4aX05YRaqSF",
        "colab": {
          "base_uri": "https://localhost:8080/"
        },
        "outputId": "e153aa74-ac6f-4db5-ec53-b06815392e1d"
      },
      "execution_count": null,
      "outputs": [
        {
          "output_type": "execute_result",
          "data": {
            "text/plain": [
              "0.7093665576391099"
            ]
          },
          "metadata": {},
          "execution_count": 72
        }
      ]
    },
    {
      "cell_type": "code",
      "source": [
        "rfr.score(X_test, y_test)"
      ],
      "metadata": {
        "id": "0yBg8q2RznfF",
        "colab": {
          "base_uri": "https://localhost:8080/"
        },
        "outputId": "3e865a1a-089e-4ccb-ae07-a540b8b4d38a"
      },
      "execution_count": null,
      "outputs": [
        {
          "output_type": "execute_result",
          "data": {
            "text/plain": [
              "0.3769274066870534"
            ]
          },
          "metadata": {},
          "execution_count": 73
        }
      ]
    },
    {
      "cell_type": "markdown",
      "source": [
        "# Grid Search"
      ],
      "metadata": {
        "id": "NHOrV5gOX2kP"
      }
    },
    {
      "cell_type": "code",
      "source": [
        "from sklearn.ensemble import RandomForestRegressor\n",
        "from sklearn.tree import DecisionTreeRegressor\n",
        "from sklearn import tree\n",
        "from sklearn.model_selection import GridSearchCV"
      ],
      "metadata": {
        "id": "eljGeQ0tkQu4"
      },
      "execution_count": null,
      "outputs": []
    },
    {
      "cell_type": "code",
      "source": [
        "rf = RandomForestRegressor()"
      ],
      "metadata": {
        "id": "_vnNu2mjX7zc"
      },
      "execution_count": null,
      "outputs": []
    },
    {
      "cell_type": "code",
      "source": [
        "params = {'n_estimators': [1,2,3,5,7,8,9,10], 'max_depth': [4,5,6,7], 'min_samples_split': [5,10,15,20], 'max_features': [2,3,4,5,6,7,8,9]}\n",
        "gs = GridSearchCV(estimator=rf, param_grid=params)"
      ],
      "metadata": {
        "id": "CHFc2rcSYAdm"
      },
      "execution_count": null,
      "outputs": []
    },
    {
      "cell_type": "code",
      "source": [
        "gs.fit(X_train, y_train)"
      ],
      "metadata": {
        "colab": {
          "base_uri": "https://localhost:8080/"
        },
        "id": "n31MSRp2YbVe",
        "outputId": "218d2121-1c7e-4099-88d8-5e58ac1c0ef6"
      },
      "execution_count": null,
      "outputs": [
        {
          "output_type": "execute_result",
          "data": {
            "text/plain": [
              "GridSearchCV(estimator=RandomForestRegressor(),\n",
              "             param_grid={'max_depth': [4, 5, 6, 7],\n",
              "                         'max_features': [2, 3, 4, 5, 6, 7, 8, 9],\n",
              "                         'min_samples_split': [5, 10, 15, 20],\n",
              "                         'n_estimators': [1, 2, 3, 5, 7, 8, 9, 10]})"
            ]
          },
          "metadata": {},
          "execution_count": 77
        }
      ]
    },
    {
      "cell_type": "code",
      "source": [
        "gs.best_estimator_"
      ],
      "metadata": {
        "colab": {
          "base_uri": "https://localhost:8080/"
        },
        "id": "wnnnL_MtYgEJ",
        "outputId": "76c15384-c2bc-40db-cc78-b57d70312aa7"
      },
      "execution_count": null,
      "outputs": [
        {
          "output_type": "execute_result",
          "data": {
            "text/plain": [
              "RandomForestRegressor(max_depth=7, max_features=7, min_samples_split=15,\n",
              "                      n_estimators=7)"
            ]
          },
          "metadata": {},
          "execution_count": 78
        }
      ]
    },
    {
      "cell_type": "code",
      "source": [
        "gs.best_score_"
      ],
      "metadata": {
        "colab": {
          "base_uri": "https://localhost:8080/"
        },
        "id": "i5IwbtlVYkg8",
        "outputId": "55874f79-a9a0-48b1-9a16-6104c4df29ba"
      },
      "execution_count": null,
      "outputs": [
        {
          "output_type": "execute_result",
          "data": {
            "text/plain": [
              "0.4736661439337966"
            ]
          },
          "metadata": {},
          "execution_count": 79
        }
      ]
    },
    {
      "cell_type": "markdown",
      "source": [
        "Yellowbrick"
      ],
      "metadata": {
        "id": "3n_2gGcjdEnm"
      }
    },
    {
      "cell_type": "code",
      "source": [
        "from sklearn.linear_model import LinearRegression\n",
        "from yellowbrick.model_selection import LearningCurve\n",
        "\n",
        "clf = gs.best_estimator_\n",
        "# sizes = np.linspace(0.3, 1.0, 10)\n",
        "visualizer = LearningCurve(clf, scoring='r2', train_sizes=np.linspace(0.3,1.0,10))\n",
        "\n",
        "visualizer.fit(X_train, y_train)\n",
        "visualizer.show()   "
      ],
      "metadata": {
        "id": "ZCJ7RzNSZk61",
        "colab": {
          "base_uri": "https://localhost:8080/"
        },
        "outputId": "9f0c6f69-90cd-4b75-e438-f3f23bba2f15"
      },
      "execution_count": null,
      "outputs": [
        {
          "output_type": "execute_result",
          "data": {
            "text/plain": [
              "<matplotlib.axes._subplots.AxesSubplot at 0x7f52e8df3690>"
            ]
          },
          "metadata": {},
          "execution_count": 80
        }
      ]
    },
    {
      "cell_type": "markdown",
      "source": [
        "Heatmapa korelacji"
      ],
      "metadata": {
        "id": "vrHS71bVeWXY"
      }
    },
    {
      "cell_type": "code",
      "source": [
        "# dfCorr = df.corr()\n",
        "# filteredDf = dfCorr[((dfCorr >= .5) | (dfCorr <= -.5)) & (dfCorr !=1.000)]\n",
        "# plt.figure(figsize=(30,10))\n",
        "# sn.heatmap(filteredDf, annot=True, cmap=\"Reds\") plt.show()"
      ],
      "metadata": {
        "id": "s_-pDWe5dR-h"
      },
      "execution_count": null,
      "outputs": []
    },
    {
      "cell_type": "markdown",
      "source": [
        "Sprawdzić czy wszystkie kolumny są liczbowe\n",
        "jeżeli tak to popracować nad overfittingiem \n",
        "sprawdzić korelację tych 30 kolumn heatmapą - jeżeli są mocno skorelowane kolumny to wywalić te mocno skorelowane"
      ],
      "metadata": {
        "id": "OHouL30oh9DK"
      }
    },
    {
      "cell_type": "markdown",
      "source": [
        "**Nie wyszło**\n",
        "Propozycje rozwiązań:\n",
        "1 hot n-coding"
      ],
      "metadata": {
        "id": "0JJ9B2C6novy"
      }
    },
    {
      "cell_type": "code",
      "source": [
        "from sklearn.neural_network import MLPRegressor\n",
        "\n",
        "clf = MLPRegressor(hidden_layer_sizes=(75,50,25),batch_size=120, random_state=42, max_iter=3000, activation='relu')\n",
        "clf.fit(X_train, y_train)"
      ],
      "metadata": {
        "id": "fz8ip6OFU28W",
        "colab": {
          "base_uri": "https://localhost:8080/"
        },
        "outputId": "d181cbe4-8ab6-4701-bec3-ce19250d8165"
      },
      "execution_count": null,
      "outputs": [
        {
          "output_type": "stream",
          "name": "stderr",
          "text": [
            "/usr/local/lib/python3.7/dist-packages/sklearn/neural_network/_multilayer_perceptron.py:696: ConvergenceWarning: Stochastic Optimizer: Maximum iterations (3000) reached and the optimization hasn't converged yet.\n",
            "  ConvergenceWarning,\n"
          ]
        },
        {
          "output_type": "execute_result",
          "data": {
            "text/plain": [
              "MLPRegressor(batch_size=120, hidden_layer_sizes=(75, 50, 25), max_iter=3000,\n",
              "             random_state=42)"
            ]
          },
          "metadata": {},
          "execution_count": 82
        }
      ]
    },
    {
      "cell_type": "code",
      "source": [
        "clf.score(X_train, y_train)"
      ],
      "metadata": {
        "id": "LQpKwRKhU_RI",
        "colab": {
          "base_uri": "https://localhost:8080/"
        },
        "outputId": "24b7bda9-9cc5-421c-8a9a-55a52e66bfbf"
      },
      "execution_count": null,
      "outputs": [
        {
          "output_type": "execute_result",
          "data": {
            "text/plain": [
              "0.6264075981858562"
            ]
          },
          "metadata": {},
          "execution_count": 83
        }
      ]
    },
    {
      "cell_type": "code",
      "source": [
        "clf.score(X_test, y_test)"
      ],
      "metadata": {
        "id": "BJtlzWg3VKWO",
        "colab": {
          "base_uri": "https://localhost:8080/"
        },
        "outputId": "19bc8d8a-085c-42e6-eca1-c8b80256a276"
      },
      "execution_count": null,
      "outputs": [
        {
          "output_type": "execute_result",
          "data": {
            "text/plain": [
              "0.5563369989850806"
            ]
          },
          "metadata": {},
          "execution_count": 84
        }
      ]
    },
    {
      "cell_type": "code",
      "source": [
        "#clf = MLPRegressor(hidden_layer_sizes=(50,50,20,10,4),batch_size=100, random_state=42, max_iter=2000, activation='relu')\n",
        "#68/56\n",
        "# clf = MLPRegressor(hidden_layer_sizes=(50,20,10,4,2),batch_size=100, random_state=42, max_iter=2000, activation='relu')\n",
        "# 67/60\n",
        "# clf = MLPRegressor(hidden_layer_sizes=(75,50,25),batch_size=100, random_state=42, max_iter=2000, activation='relu')\n",
        "# 64/60\n",
        "# dla corr\n",
        "# 63/62"
      ],
      "metadata": {
        "id": "rNOwLdvdVNfB"
      },
      "execution_count": null,
      "outputs": []
    },
    {
      "cell_type": "code",
      "source": [],
      "metadata": {
        "id": "vkpvbWAZXVNa"
      },
      "execution_count": null,
      "outputs": []
    }
  ]
}